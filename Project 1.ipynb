{
 "cells": [
  {
   "cell_type": "code",
   "execution_count": 68,
   "id": "99a142cc",
   "metadata": {},
   "outputs": [
    {
     "data": {
      "text/html": [
       "<div>\n",
       "<style scoped>\n",
       "    .dataframe tbody tr th:only-of-type {\n",
       "        vertical-align: middle;\n",
       "    }\n",
       "\n",
       "    .dataframe tbody tr th {\n",
       "        vertical-align: top;\n",
       "    }\n",
       "\n",
       "    .dataframe thead th {\n",
       "        text-align: right;\n",
       "    }\n",
       "</style>\n",
       "<table border=\"1\" class=\"dataframe\">\n",
       "  <thead>\n",
       "    <tr style=\"text-align: right;\">\n",
       "      <th></th>\n",
       "      <th>name</th>\n",
       "      <th>year</th>\n",
       "      <th>selling_price</th>\n",
       "      <th>km_driven</th>\n",
       "      <th>fuel</th>\n",
       "      <th>seller_type</th>\n",
       "      <th>transmission</th>\n",
       "      <th>owner</th>\n",
       "      <th>mileage(km/ltr/kg)</th>\n",
       "      <th>engine</th>\n",
       "      <th>max_power</th>\n",
       "      <th>seats</th>\n",
       "    </tr>\n",
       "  </thead>\n",
       "  <tbody>\n",
       "    <tr>\n",
       "      <th>0</th>\n",
       "      <td>False</td>\n",
       "      <td>False</td>\n",
       "      <td>False</td>\n",
       "      <td>False</td>\n",
       "      <td>False</td>\n",
       "      <td>False</td>\n",
       "      <td>False</td>\n",
       "      <td>False</td>\n",
       "      <td>False</td>\n",
       "      <td>False</td>\n",
       "      <td>False</td>\n",
       "      <td>False</td>\n",
       "    </tr>\n",
       "    <tr>\n",
       "      <th>1</th>\n",
       "      <td>False</td>\n",
       "      <td>False</td>\n",
       "      <td>False</td>\n",
       "      <td>False</td>\n",
       "      <td>False</td>\n",
       "      <td>False</td>\n",
       "      <td>False</td>\n",
       "      <td>False</td>\n",
       "      <td>False</td>\n",
       "      <td>False</td>\n",
       "      <td>False</td>\n",
       "      <td>False</td>\n",
       "    </tr>\n",
       "    <tr>\n",
       "      <th>2</th>\n",
       "      <td>False</td>\n",
       "      <td>False</td>\n",
       "      <td>False</td>\n",
       "      <td>False</td>\n",
       "      <td>False</td>\n",
       "      <td>False</td>\n",
       "      <td>False</td>\n",
       "      <td>False</td>\n",
       "      <td>False</td>\n",
       "      <td>False</td>\n",
       "      <td>False</td>\n",
       "      <td>False</td>\n",
       "    </tr>\n",
       "    <tr>\n",
       "      <th>3</th>\n",
       "      <td>False</td>\n",
       "      <td>False</td>\n",
       "      <td>False</td>\n",
       "      <td>False</td>\n",
       "      <td>False</td>\n",
       "      <td>False</td>\n",
       "      <td>False</td>\n",
       "      <td>False</td>\n",
       "      <td>False</td>\n",
       "      <td>False</td>\n",
       "      <td>False</td>\n",
       "      <td>False</td>\n",
       "    </tr>\n",
       "    <tr>\n",
       "      <th>4</th>\n",
       "      <td>False</td>\n",
       "      <td>False</td>\n",
       "      <td>False</td>\n",
       "      <td>False</td>\n",
       "      <td>False</td>\n",
       "      <td>False</td>\n",
       "      <td>False</td>\n",
       "      <td>False</td>\n",
       "      <td>False</td>\n",
       "      <td>False</td>\n",
       "      <td>False</td>\n",
       "      <td>False</td>\n",
       "    </tr>\n",
       "    <tr>\n",
       "      <th>...</th>\n",
       "      <td>...</td>\n",
       "      <td>...</td>\n",
       "      <td>...</td>\n",
       "      <td>...</td>\n",
       "      <td>...</td>\n",
       "      <td>...</td>\n",
       "      <td>...</td>\n",
       "      <td>...</td>\n",
       "      <td>...</td>\n",
       "      <td>...</td>\n",
       "      <td>...</td>\n",
       "      <td>...</td>\n",
       "    </tr>\n",
       "    <tr>\n",
       "      <th>8123</th>\n",
       "      <td>False</td>\n",
       "      <td>False</td>\n",
       "      <td>False</td>\n",
       "      <td>False</td>\n",
       "      <td>False</td>\n",
       "      <td>False</td>\n",
       "      <td>False</td>\n",
       "      <td>False</td>\n",
       "      <td>False</td>\n",
       "      <td>False</td>\n",
       "      <td>False</td>\n",
       "      <td>False</td>\n",
       "    </tr>\n",
       "    <tr>\n",
       "      <th>8124</th>\n",
       "      <td>False</td>\n",
       "      <td>False</td>\n",
       "      <td>False</td>\n",
       "      <td>False</td>\n",
       "      <td>False</td>\n",
       "      <td>False</td>\n",
       "      <td>False</td>\n",
       "      <td>False</td>\n",
       "      <td>False</td>\n",
       "      <td>False</td>\n",
       "      <td>False</td>\n",
       "      <td>False</td>\n",
       "    </tr>\n",
       "    <tr>\n",
       "      <th>8125</th>\n",
       "      <td>False</td>\n",
       "      <td>False</td>\n",
       "      <td>False</td>\n",
       "      <td>False</td>\n",
       "      <td>False</td>\n",
       "      <td>False</td>\n",
       "      <td>False</td>\n",
       "      <td>False</td>\n",
       "      <td>False</td>\n",
       "      <td>False</td>\n",
       "      <td>False</td>\n",
       "      <td>False</td>\n",
       "    </tr>\n",
       "    <tr>\n",
       "      <th>8126</th>\n",
       "      <td>False</td>\n",
       "      <td>False</td>\n",
       "      <td>False</td>\n",
       "      <td>False</td>\n",
       "      <td>False</td>\n",
       "      <td>False</td>\n",
       "      <td>False</td>\n",
       "      <td>False</td>\n",
       "      <td>False</td>\n",
       "      <td>False</td>\n",
       "      <td>False</td>\n",
       "      <td>False</td>\n",
       "    </tr>\n",
       "    <tr>\n",
       "      <th>8127</th>\n",
       "      <td>False</td>\n",
       "      <td>False</td>\n",
       "      <td>False</td>\n",
       "      <td>False</td>\n",
       "      <td>False</td>\n",
       "      <td>False</td>\n",
       "      <td>False</td>\n",
       "      <td>False</td>\n",
       "      <td>False</td>\n",
       "      <td>False</td>\n",
       "      <td>False</td>\n",
       "      <td>False</td>\n",
       "    </tr>\n",
       "  </tbody>\n",
       "</table>\n",
       "<p>8128 rows × 12 columns</p>\n",
       "</div>"
      ],
      "text/plain": [
       "       name   year  selling_price  km_driven   fuel  seller_type  \\\n",
       "0     False  False          False      False  False        False   \n",
       "1     False  False          False      False  False        False   \n",
       "2     False  False          False      False  False        False   \n",
       "3     False  False          False      False  False        False   \n",
       "4     False  False          False      False  False        False   \n",
       "...     ...    ...            ...        ...    ...          ...   \n",
       "8123  False  False          False      False  False        False   \n",
       "8124  False  False          False      False  False        False   \n",
       "8125  False  False          False      False  False        False   \n",
       "8126  False  False          False      False  False        False   \n",
       "8127  False  False          False      False  False        False   \n",
       "\n",
       "      transmission  owner  mileage(km/ltr/kg)  engine  max_power  seats  \n",
       "0            False  False               False   False      False  False  \n",
       "1            False  False               False   False      False  False  \n",
       "2            False  False               False   False      False  False  \n",
       "3            False  False               False   False      False  False  \n",
       "4            False  False               False   False      False  False  \n",
       "...            ...    ...                 ...     ...        ...    ...  \n",
       "8123         False  False               False   False      False  False  \n",
       "8124         False  False               False   False      False  False  \n",
       "8125         False  False               False   False      False  False  \n",
       "8126         False  False               False   False      False  False  \n",
       "8127         False  False               False   False      False  False  \n",
       "\n",
       "[8128 rows x 12 columns]"
      ]
     },
     "execution_count": 68,
     "metadata": {},
     "output_type": "execute_result"
    }
   ],
   "source": [
    "import pandas as pd\n",
    "import numpy as np\n",
    "from datetime import datetime\n",
    "df=pd.read_csv(r\"cardekho - Copy.csv\")\n",
    "#check for missing data\n",
    "df.isnull()"
   ]
  },
  {
   "cell_type": "code",
   "execution_count": 69,
   "id": "87d5940b",
   "metadata": {},
   "outputs": [
    {
     "data": {
      "text/plain": [
       "name                    0\n",
       "year                    0\n",
       "selling_price           0\n",
       "km_driven               0\n",
       "fuel                    0\n",
       "seller_type             0\n",
       "transmission            0\n",
       "owner                   0\n",
       "mileage(km/ltr/kg)    221\n",
       "engine                221\n",
       "max_power             215\n",
       "seats                 221\n",
       "dtype: int64"
      ]
     },
     "execution_count": 69,
     "metadata": {},
     "output_type": "execute_result"
    }
   ],
   "source": [
    "df.isnull().sum()"
   ]
  },
  {
   "cell_type": "code",
   "execution_count": 70,
   "id": "cd2f3412",
   "metadata": {},
   "outputs": [
    {
     "data": {
      "text/html": [
       "<div>\n",
       "<style scoped>\n",
       "    .dataframe tbody tr th:only-of-type {\n",
       "        vertical-align: middle;\n",
       "    }\n",
       "\n",
       "    .dataframe tbody tr th {\n",
       "        vertical-align: top;\n",
       "    }\n",
       "\n",
       "    .dataframe thead th {\n",
       "        text-align: right;\n",
       "    }\n",
       "</style>\n",
       "<table border=\"1\" class=\"dataframe\">\n",
       "  <thead>\n",
       "    <tr style=\"text-align: right;\">\n",
       "      <th></th>\n",
       "      <th>year</th>\n",
       "      <th>selling_price</th>\n",
       "      <th>km_driven</th>\n",
       "      <th>mileage(km/ltr/kg)</th>\n",
       "      <th>engine</th>\n",
       "      <th>seats</th>\n",
       "    </tr>\n",
       "  </thead>\n",
       "  <tbody>\n",
       "    <tr>\n",
       "      <th>count</th>\n",
       "      <td>8128.000000</td>\n",
       "      <td>8.128000e+03</td>\n",
       "      <td>8.128000e+03</td>\n",
       "      <td>7907.000000</td>\n",
       "      <td>7907.000000</td>\n",
       "      <td>7907.000000</td>\n",
       "    </tr>\n",
       "    <tr>\n",
       "      <th>mean</th>\n",
       "      <td>2013.804011</td>\n",
       "      <td>6.382718e+05</td>\n",
       "      <td>6.981951e+04</td>\n",
       "      <td>19.418783</td>\n",
       "      <td>1458.625016</td>\n",
       "      <td>5.416719</td>\n",
       "    </tr>\n",
       "    <tr>\n",
       "      <th>std</th>\n",
       "      <td>4.044249</td>\n",
       "      <td>8.062534e+05</td>\n",
       "      <td>5.655055e+04</td>\n",
       "      <td>4.037145</td>\n",
       "      <td>503.916303</td>\n",
       "      <td>0.959588</td>\n",
       "    </tr>\n",
       "    <tr>\n",
       "      <th>min</th>\n",
       "      <td>1983.000000</td>\n",
       "      <td>2.999900e+04</td>\n",
       "      <td>1.000000e+00</td>\n",
       "      <td>0.000000</td>\n",
       "      <td>624.000000</td>\n",
       "      <td>2.000000</td>\n",
       "    </tr>\n",
       "    <tr>\n",
       "      <th>25%</th>\n",
       "      <td>2011.000000</td>\n",
       "      <td>2.549990e+05</td>\n",
       "      <td>3.500000e+04</td>\n",
       "      <td>16.780000</td>\n",
       "      <td>1197.000000</td>\n",
       "      <td>5.000000</td>\n",
       "    </tr>\n",
       "    <tr>\n",
       "      <th>50%</th>\n",
       "      <td>2015.000000</td>\n",
       "      <td>4.500000e+05</td>\n",
       "      <td>6.000000e+04</td>\n",
       "      <td>19.300000</td>\n",
       "      <td>1248.000000</td>\n",
       "      <td>5.000000</td>\n",
       "    </tr>\n",
       "    <tr>\n",
       "      <th>75%</th>\n",
       "      <td>2017.000000</td>\n",
       "      <td>6.750000e+05</td>\n",
       "      <td>9.800000e+04</td>\n",
       "      <td>22.320000</td>\n",
       "      <td>1582.000000</td>\n",
       "      <td>5.000000</td>\n",
       "    </tr>\n",
       "    <tr>\n",
       "      <th>max</th>\n",
       "      <td>2020.000000</td>\n",
       "      <td>1.000000e+07</td>\n",
       "      <td>2.360457e+06</td>\n",
       "      <td>42.000000</td>\n",
       "      <td>3604.000000</td>\n",
       "      <td>14.000000</td>\n",
       "    </tr>\n",
       "  </tbody>\n",
       "</table>\n",
       "</div>"
      ],
      "text/plain": [
       "              year  selling_price     km_driven  mileage(km/ltr/kg)  \\\n",
       "count  8128.000000   8.128000e+03  8.128000e+03         7907.000000   \n",
       "mean   2013.804011   6.382718e+05  6.981951e+04           19.418783   \n",
       "std       4.044249   8.062534e+05  5.655055e+04            4.037145   \n",
       "min    1983.000000   2.999900e+04  1.000000e+00            0.000000   \n",
       "25%    2011.000000   2.549990e+05  3.500000e+04           16.780000   \n",
       "50%    2015.000000   4.500000e+05  6.000000e+04           19.300000   \n",
       "75%    2017.000000   6.750000e+05  9.800000e+04           22.320000   \n",
       "max    2020.000000   1.000000e+07  2.360457e+06           42.000000   \n",
       "\n",
       "            engine        seats  \n",
       "count  7907.000000  7907.000000  \n",
       "mean   1458.625016     5.416719  \n",
       "std     503.916303     0.959588  \n",
       "min     624.000000     2.000000  \n",
       "25%    1197.000000     5.000000  \n",
       "50%    1248.000000     5.000000  \n",
       "75%    1582.000000     5.000000  \n",
       "max    3604.000000    14.000000  "
      ]
     },
     "execution_count": 70,
     "metadata": {},
     "output_type": "execute_result"
    }
   ],
   "source": [
    "df.describe()"
   ]
  },
  {
   "cell_type": "code",
   "execution_count": 71,
   "id": "8568c558",
   "metadata": {},
   "outputs": [
    {
     "name": "stdout",
     "output_type": "stream",
     "text": [
      "                              name  year  selling_price  km_driven    fuel  \\\n",
      "0           Maruti Swift Dzire VDI  2014         450000     145500  Diesel   \n",
      "1     Skoda Rapid 1.5 TDI Ambition  2014         370000     120000  Diesel   \n",
      "2         Honda City 2017-2020 EXi  2006         158000     140000  Petrol   \n",
      "3        Hyundai i20 Sportz Diesel  2010         225000     127000  Diesel   \n",
      "4           Maruti Swift VXI BSIII  2007         130000     120000  Petrol   \n",
      "...                            ...   ...            ...        ...     ...   \n",
      "8123             Hyundai i20 Magna  2013         320000     110000  Petrol   \n",
      "8124         Hyundai Verna CRDi SX  2007         135000     119000  Diesel   \n",
      "8125        Maruti Swift Dzire ZDi  2009         382000     120000  Diesel   \n",
      "8126               Tata Indigo CR4  2013         290000      25000  Diesel   \n",
      "8127               Tata Indigo CR4  2013         290000      25000  Diesel   \n",
      "\n",
      "     seller_type transmission                 owner  mileage(km/ltr/kg)  \\\n",
      "0     Individual       Manual           First Owner               23.40   \n",
      "1     Individual       Manual          Second Owner               21.14   \n",
      "2     Individual       Manual           Third Owner               17.70   \n",
      "3     Individual       Manual           First Owner               23.00   \n",
      "4     Individual       Manual           First Owner               16.10   \n",
      "...          ...          ...                   ...                 ...   \n",
      "8123  Individual       Manual           First Owner               18.50   \n",
      "8124  Individual       Manual  Fourth & Above Owner               16.80   \n",
      "8125  Individual       Manual           First Owner               19.30   \n",
      "8126  Individual       Manual           First Owner               23.57   \n",
      "8127  Individual       Manual           First Owner               23.57   \n",
      "\n",
      "      engine max_power  seats  \n",
      "0     1248.0        74    5.0  \n",
      "1     1498.0    103.52    5.0  \n",
      "2     1497.0        78    5.0  \n",
      "3     1396.0        90    5.0  \n",
      "4     1298.0      88.2    5.0  \n",
      "...      ...       ...    ...  \n",
      "8123  1197.0     82.85    5.0  \n",
      "8124  1493.0       110    5.0  \n",
      "8125  1248.0      73.9    5.0  \n",
      "8126  1396.0        70    5.0  \n",
      "8127  1396.0        70    5.0  \n",
      "\n",
      "[7907 rows x 12 columns]\n"
     ]
    }
   ],
   "source": [
    "#drop any rows where the target variable (selling price) is missing\n",
    "print(df.dropna())"
   ]
  },
  {
   "cell_type": "code",
   "execution_count": 72,
   "id": "31c515be",
   "metadata": {},
   "outputs": [
    {
     "data": {
      "text/plain": [
       "name                    0\n",
       "year                    0\n",
       "selling_price           0\n",
       "km_driven               0\n",
       "fuel                    0\n",
       "seller_type             0\n",
       "transmission            0\n",
       "owner                   0\n",
       "mileage(km/ltr/kg)    221\n",
       "engine                221\n",
       "max_power             215\n",
       "seats                 221\n",
       "dtype: int64"
      ]
     },
     "execution_count": 72,
     "metadata": {},
     "output_type": "execute_result"
    }
   ],
   "source": [
    "df.isnull().sum()"
   ]
  },
  {
   "cell_type": "code",
   "execution_count": 73,
   "id": "e99a9039",
   "metadata": {},
   "outputs": [
    {
     "name": "stdout",
     "output_type": "stream",
     "text": [
      "<class 'pandas.core.frame.DataFrame'>\n",
      "RangeIndex: 8128 entries, 0 to 8127\n",
      "Data columns (total 12 columns):\n",
      " #   Column              Non-Null Count  Dtype  \n",
      "---  ------              --------------  -----  \n",
      " 0   name                8128 non-null   object \n",
      " 1   year                8128 non-null   int64  \n",
      " 2   selling_price       8128 non-null   int64  \n",
      " 3   km_driven           8128 non-null   int64  \n",
      " 4   fuel                8128 non-null   object \n",
      " 5   seller_type         8128 non-null   object \n",
      " 6   transmission        8128 non-null   object \n",
      " 7   owner               8128 non-null   object \n",
      " 8   mileage(km/ltr/kg)  7907 non-null   float64\n",
      " 9   engine              7907 non-null   float64\n",
      " 10  max_power           7913 non-null   object \n",
      " 11  seats               7907 non-null   float64\n",
      "dtypes: float64(3), int64(3), object(6)\n",
      "memory usage: 762.1+ KB\n"
     ]
    }
   ],
   "source": [
    "df.info()"
   ]
  },
  {
   "cell_type": "code",
   "execution_count": 74,
   "id": "c30d33d2",
   "metadata": {},
   "outputs": [
    {
     "data": {
      "text/plain": [
       "(8128, 12)"
      ]
     },
     "execution_count": 74,
     "metadata": {},
     "output_type": "execute_result"
    }
   ],
   "source": [
    "df.shape"
   ]
  },
  {
   "cell_type": "code",
   "execution_count": 75,
   "id": "3142780d",
   "metadata": {},
   "outputs": [],
   "source": [
    "#filling missing values in the “mileage” column with the column’s mean"
   ]
  },
  {
   "cell_type": "markdown",
   "id": "f9bb85c0",
   "metadata": {},
   "source": [
    "Dropping rows can have a big impact on small datasets and can remove correlations between features\n",
    "Filling in values ensures that the dataset is trained on all available information. \n",
    "Dropping rows is like doing away with entire rows/columns because a piece of information is missing"
   ]
  },
  {
   "cell_type": "code",
   "execution_count": 76,
   "id": "8330bcb5",
   "metadata": {},
   "outputs": [
    {
     "name": "stdout",
     "output_type": "stream",
     "text": [
      "<class 'pandas.core.frame.DataFrame'>\n",
      "RangeIndex: 8128 entries, 0 to 8127\n",
      "Data columns (total 12 columns):\n",
      " #   Column              Non-Null Count  Dtype  \n",
      "---  ------              --------------  -----  \n",
      " 0   name                8128 non-null   object \n",
      " 1   year                8128 non-null   int64  \n",
      " 2   selling_price       8128 non-null   int64  \n",
      " 3   km_driven           8128 non-null   int64  \n",
      " 4   fuel                8128 non-null   object \n",
      " 5   seller_type         8128 non-null   object \n",
      " 6   transmission        8128 non-null   object \n",
      " 7   owner               8128 non-null   object \n",
      " 8   mileage(km/ltr/kg)  8128 non-null   float64\n",
      " 9   engine              7907 non-null   float64\n",
      " 10  max_power           7913 non-null   object \n",
      " 11  seats               7907 non-null   float64\n",
      "dtypes: float64(3), int64(3), object(6)\n",
      "memory usage: 762.1+ KB\n"
     ]
    }
   ],
   "source": [
    "df[\"mileage(km/ltr/kg)\"]=df[\"mileage(km/ltr/kg)\"].fillna(df[\"mileage(km/ltr/kg)\"].mean())\n",
    "df.info()"
   ]
  },
  {
   "cell_type": "code",
   "execution_count": 77,
   "id": "cb70244f",
   "metadata": {},
   "outputs": [],
   "source": [
    "#finding duplicated rows\n",
    "df=df.drop_duplicates()"
   ]
  },
  {
   "cell_type": "code",
   "execution_count": 78,
   "id": "3e1d8fff",
   "metadata": {},
   "outputs": [
    {
     "data": {
      "text/html": [
       "<div>\n",
       "<style scoped>\n",
       "    .dataframe tbody tr th:only-of-type {\n",
       "        vertical-align: middle;\n",
       "    }\n",
       "\n",
       "    .dataframe tbody tr th {\n",
       "        vertical-align: top;\n",
       "    }\n",
       "\n",
       "    .dataframe thead th {\n",
       "        text-align: right;\n",
       "    }\n",
       "</style>\n",
       "<table border=\"1\" class=\"dataframe\">\n",
       "  <thead>\n",
       "    <tr style=\"text-align: right;\">\n",
       "      <th></th>\n",
       "      <th>name</th>\n",
       "      <th>year</th>\n",
       "      <th>selling_price</th>\n",
       "      <th>km_driven</th>\n",
       "      <th>fuel</th>\n",
       "      <th>seller_type</th>\n",
       "      <th>transmission</th>\n",
       "      <th>owner</th>\n",
       "      <th>mileage(km/ltr/kg)</th>\n",
       "      <th>engine</th>\n",
       "      <th>max_power</th>\n",
       "      <th>seats</th>\n",
       "    </tr>\n",
       "  </thead>\n",
       "  <tbody>\n",
       "  </tbody>\n",
       "</table>\n",
       "</div>"
      ],
      "text/plain": [
       "Empty DataFrame\n",
       "Columns: [name, year, selling_price, km_driven, fuel, seller_type, transmission, owner, mileage(km/ltr/kg), engine, max_power, seats]\n",
       "Index: []"
      ]
     },
     "execution_count": 78,
     "metadata": {},
     "output_type": "execute_result"
    }
   ],
   "source": [
    "df[df.duplicated(keep=False)]"
   ]
  },
  {
   "cell_type": "code",
   "execution_count": 79,
   "id": "f8039ac7",
   "metadata": {},
   "outputs": [
    {
     "data": {
      "text/html": [
       "<div>\n",
       "<style scoped>\n",
       "    .dataframe tbody tr th:only-of-type {\n",
       "        vertical-align: middle;\n",
       "    }\n",
       "\n",
       "    .dataframe tbody tr th {\n",
       "        vertical-align: top;\n",
       "    }\n",
       "\n",
       "    .dataframe thead th {\n",
       "        text-align: right;\n",
       "    }\n",
       "</style>\n",
       "<table border=\"1\" class=\"dataframe\">\n",
       "  <thead>\n",
       "    <tr style=\"text-align: right;\">\n",
       "      <th></th>\n",
       "      <th>name</th>\n",
       "      <th>year</th>\n",
       "      <th>selling_price</th>\n",
       "      <th>km_driven</th>\n",
       "      <th>fuel</th>\n",
       "      <th>seller_type</th>\n",
       "      <th>transmission</th>\n",
       "      <th>owner</th>\n",
       "      <th>mileage(km/ltr/kg)</th>\n",
       "      <th>engine</th>\n",
       "      <th>max_power</th>\n",
       "      <th>seats</th>\n",
       "    </tr>\n",
       "  </thead>\n",
       "  <tbody>\n",
       "    <tr>\n",
       "      <th>0</th>\n",
       "      <td>Maruti Swift Dzire VDI</td>\n",
       "      <td>2014</td>\n",
       "      <td>450000</td>\n",
       "      <td>145500</td>\n",
       "      <td>Diesel</td>\n",
       "      <td>Individual</td>\n",
       "      <td>Manual</td>\n",
       "      <td>First Owner</td>\n",
       "      <td>23.40</td>\n",
       "      <td>1248.0</td>\n",
       "      <td>74</td>\n",
       "      <td>5.0</td>\n",
       "    </tr>\n",
       "    <tr>\n",
       "      <th>1</th>\n",
       "      <td>Skoda Rapid 1.5 TDI Ambition</td>\n",
       "      <td>2014</td>\n",
       "      <td>370000</td>\n",
       "      <td>120000</td>\n",
       "      <td>Diesel</td>\n",
       "      <td>Individual</td>\n",
       "      <td>Manual</td>\n",
       "      <td>Second Owner</td>\n",
       "      <td>21.14</td>\n",
       "      <td>1498.0</td>\n",
       "      <td>103.52</td>\n",
       "      <td>5.0</td>\n",
       "    </tr>\n",
       "    <tr>\n",
       "      <th>2</th>\n",
       "      <td>Honda City 2017-2020 EXi</td>\n",
       "      <td>2006</td>\n",
       "      <td>158000</td>\n",
       "      <td>140000</td>\n",
       "      <td>Petrol</td>\n",
       "      <td>Individual</td>\n",
       "      <td>Manual</td>\n",
       "      <td>Third Owner</td>\n",
       "      <td>17.70</td>\n",
       "      <td>1497.0</td>\n",
       "      <td>78</td>\n",
       "      <td>5.0</td>\n",
       "    </tr>\n",
       "    <tr>\n",
       "      <th>3</th>\n",
       "      <td>Hyundai i20 Sportz Diesel</td>\n",
       "      <td>2010</td>\n",
       "      <td>225000</td>\n",
       "      <td>127000</td>\n",
       "      <td>Diesel</td>\n",
       "      <td>Individual</td>\n",
       "      <td>Manual</td>\n",
       "      <td>First Owner</td>\n",
       "      <td>23.00</td>\n",
       "      <td>1396.0</td>\n",
       "      <td>90</td>\n",
       "      <td>5.0</td>\n",
       "    </tr>\n",
       "    <tr>\n",
       "      <th>4</th>\n",
       "      <td>Maruti Swift VXI BSIII</td>\n",
       "      <td>2007</td>\n",
       "      <td>130000</td>\n",
       "      <td>120000</td>\n",
       "      <td>Petrol</td>\n",
       "      <td>Individual</td>\n",
       "      <td>Manual</td>\n",
       "      <td>First Owner</td>\n",
       "      <td>16.10</td>\n",
       "      <td>1298.0</td>\n",
       "      <td>88.2</td>\n",
       "      <td>5.0</td>\n",
       "    </tr>\n",
       "    <tr>\n",
       "      <th>...</th>\n",
       "      <td>...</td>\n",
       "      <td>...</td>\n",
       "      <td>...</td>\n",
       "      <td>...</td>\n",
       "      <td>...</td>\n",
       "      <td>...</td>\n",
       "      <td>...</td>\n",
       "      <td>...</td>\n",
       "      <td>...</td>\n",
       "      <td>...</td>\n",
       "      <td>...</td>\n",
       "      <td>...</td>\n",
       "    </tr>\n",
       "    <tr>\n",
       "      <th>8121</th>\n",
       "      <td>Maruti Wagon R VXI BS IV with ABS</td>\n",
       "      <td>2013</td>\n",
       "      <td>260000</td>\n",
       "      <td>50000</td>\n",
       "      <td>Petrol</td>\n",
       "      <td>Individual</td>\n",
       "      <td>Manual</td>\n",
       "      <td>Second Owner</td>\n",
       "      <td>18.90</td>\n",
       "      <td>998.0</td>\n",
       "      <td>67.1</td>\n",
       "      <td>5.0</td>\n",
       "    </tr>\n",
       "    <tr>\n",
       "      <th>8122</th>\n",
       "      <td>Hyundai i20 Magna 1.4 CRDi</td>\n",
       "      <td>2014</td>\n",
       "      <td>475000</td>\n",
       "      <td>80000</td>\n",
       "      <td>Diesel</td>\n",
       "      <td>Individual</td>\n",
       "      <td>Manual</td>\n",
       "      <td>Second Owner</td>\n",
       "      <td>22.54</td>\n",
       "      <td>1396.0</td>\n",
       "      <td>88.73</td>\n",
       "      <td>5.0</td>\n",
       "    </tr>\n",
       "    <tr>\n",
       "      <th>8123</th>\n",
       "      <td>Hyundai i20 Magna</td>\n",
       "      <td>2013</td>\n",
       "      <td>320000</td>\n",
       "      <td>110000</td>\n",
       "      <td>Petrol</td>\n",
       "      <td>Individual</td>\n",
       "      <td>Manual</td>\n",
       "      <td>First Owner</td>\n",
       "      <td>18.50</td>\n",
       "      <td>1197.0</td>\n",
       "      <td>82.85</td>\n",
       "      <td>5.0</td>\n",
       "    </tr>\n",
       "    <tr>\n",
       "      <th>8124</th>\n",
       "      <td>Hyundai Verna CRDi SX</td>\n",
       "      <td>2007</td>\n",
       "      <td>135000</td>\n",
       "      <td>119000</td>\n",
       "      <td>Diesel</td>\n",
       "      <td>Individual</td>\n",
       "      <td>Manual</td>\n",
       "      <td>Fourth &amp; Above Owner</td>\n",
       "      <td>16.80</td>\n",
       "      <td>1493.0</td>\n",
       "      <td>110</td>\n",
       "      <td>5.0</td>\n",
       "    </tr>\n",
       "    <tr>\n",
       "      <th>8125</th>\n",
       "      <td>Maruti Swift Dzire ZDi</td>\n",
       "      <td>2009</td>\n",
       "      <td>382000</td>\n",
       "      <td>120000</td>\n",
       "      <td>Diesel</td>\n",
       "      <td>Individual</td>\n",
       "      <td>Manual</td>\n",
       "      <td>First Owner</td>\n",
       "      <td>19.30</td>\n",
       "      <td>1248.0</td>\n",
       "      <td>73.9</td>\n",
       "      <td>5.0</td>\n",
       "    </tr>\n",
       "  </tbody>\n",
       "</table>\n",
       "<p>6926 rows × 12 columns</p>\n",
       "</div>"
      ],
      "text/plain": [
       "                                   name  year  selling_price  km_driven  \\\n",
       "0                Maruti Swift Dzire VDI  2014         450000     145500   \n",
       "1          Skoda Rapid 1.5 TDI Ambition  2014         370000     120000   \n",
       "2              Honda City 2017-2020 EXi  2006         158000     140000   \n",
       "3             Hyundai i20 Sportz Diesel  2010         225000     127000   \n",
       "4                Maruti Swift VXI BSIII  2007         130000     120000   \n",
       "...                                 ...   ...            ...        ...   \n",
       "8121  Maruti Wagon R VXI BS IV with ABS  2013         260000      50000   \n",
       "8122         Hyundai i20 Magna 1.4 CRDi  2014         475000      80000   \n",
       "8123                  Hyundai i20 Magna  2013         320000     110000   \n",
       "8124              Hyundai Verna CRDi SX  2007         135000     119000   \n",
       "8125             Maruti Swift Dzire ZDi  2009         382000     120000   \n",
       "\n",
       "        fuel seller_type transmission                 owner  \\\n",
       "0     Diesel  Individual       Manual           First Owner   \n",
       "1     Diesel  Individual       Manual          Second Owner   \n",
       "2     Petrol  Individual       Manual           Third Owner   \n",
       "3     Diesel  Individual       Manual           First Owner   \n",
       "4     Petrol  Individual       Manual           First Owner   \n",
       "...      ...         ...          ...                   ...   \n",
       "8121  Petrol  Individual       Manual          Second Owner   \n",
       "8122  Diesel  Individual       Manual          Second Owner   \n",
       "8123  Petrol  Individual       Manual           First Owner   \n",
       "8124  Diesel  Individual       Manual  Fourth & Above Owner   \n",
       "8125  Diesel  Individual       Manual           First Owner   \n",
       "\n",
       "      mileage(km/ltr/kg)  engine max_power  seats  \n",
       "0                  23.40  1248.0        74    5.0  \n",
       "1                  21.14  1498.0    103.52    5.0  \n",
       "2                  17.70  1497.0        78    5.0  \n",
       "3                  23.00  1396.0        90    5.0  \n",
       "4                  16.10  1298.0      88.2    5.0  \n",
       "...                  ...     ...       ...    ...  \n",
       "8121               18.90   998.0      67.1    5.0  \n",
       "8122               22.54  1396.0     88.73    5.0  \n",
       "8123               18.50  1197.0     82.85    5.0  \n",
       "8124               16.80  1493.0       110    5.0  \n",
       "8125               19.30  1248.0      73.9    5.0  \n",
       "\n",
       "[6926 rows x 12 columns]"
      ]
     },
     "execution_count": 79,
     "metadata": {},
     "output_type": "execute_result"
    }
   ],
   "source": [
    "df.drop_duplicates()"
   ]
  },
  {
   "cell_type": "code",
   "execution_count": 80,
   "id": "2d31f162",
   "metadata": {},
   "outputs": [],
   "source": [
    "#duplicate rows can have the same gradient when plotting the linear regression line & lead to multicollinearity"
   ]
  },
  {
   "cell_type": "code",
   "execution_count": 81,
   "id": "bec756ba",
   "metadata": {},
   "outputs": [],
   "source": [
    "#6. Convert the “year” column into the car’s age.\n",
    "from datetime import datetime\n",
    "current_year=datetime.now().year\n",
    "df[\"Age\"]=current_year-df[\"year\"]"
   ]
  },
  {
   "cell_type": "code",
   "execution_count": 82,
   "id": "c6dcd649",
   "metadata": {},
   "outputs": [
    {
     "name": "stdout",
     "output_type": "stream",
     "text": [
      "<class 'pandas.core.frame.DataFrame'>\n",
      "Index: 6926 entries, 0 to 8125\n",
      "Data columns (total 13 columns):\n",
      " #   Column              Non-Null Count  Dtype  \n",
      "---  ------              --------------  -----  \n",
      " 0   name                6926 non-null   object \n",
      " 1   year                6926 non-null   int64  \n",
      " 2   selling_price       6926 non-null   int64  \n",
      " 3   km_driven           6926 non-null   int64  \n",
      " 4   fuel                6926 non-null   object \n",
      " 5   seller_type         6926 non-null   object \n",
      " 6   transmission        6926 non-null   object \n",
      " 7   owner               6926 non-null   object \n",
      " 8   mileage(km/ltr/kg)  6926 non-null   float64\n",
      " 9   engine              6718 non-null   float64\n",
      " 10  max_power           6721 non-null   object \n",
      " 11  seats               6718 non-null   float64\n",
      " 12  Age                 6926 non-null   int64  \n",
      "dtypes: float64(3), int64(4), object(6)\n",
      "memory usage: 757.5+ KB\n"
     ]
    }
   ],
   "source": [
    "df.info()"
   ]
  },
  {
   "cell_type": "code",
   "execution_count": 83,
   "id": "94ff50bb",
   "metadata": {},
   "outputs": [
    {
     "name": "stdout",
     "output_type": "stream",
     "text": [
      "['Diesel' 'Petrol' 'LPG' 'CNG']\n"
     ]
    }
   ],
   "source": [
    "#Check the unique values in the “fuel type” column.\n",
    "fuel_type=df[\"fuel\"].unique()\n",
    "print(fuel_type)"
   ]
  },
  {
   "cell_type": "markdown",
   "id": "e2a1637b",
   "metadata": {},
   "source": [
    "Knowing all the possible values in a categorical column is important so that you know if there are missing values and where they are so that we know how to handle that data"
   ]
  },
  {
   "cell_type": "code",
   "execution_count": 84,
   "id": "3dd6c821",
   "metadata": {},
   "outputs": [
    {
     "data": {
      "text/plain": [
       "array(['Manual', 'Automatic'], dtype=object)"
      ]
     },
     "execution_count": 84,
     "metadata": {},
     "output_type": "execute_result"
    }
   ],
   "source": [
    "\n",
    "#replacing inconsistent values in the “transmission” column.\n",
    "df[\"transmission\"]=df[\"transmission\"].replace(to_replace=[\"manual\",\"Manual\",\"automatic\",\"Automatic\"],value=[\"Manual\",\"Manual\",\"Automatic\",\"Automatic\"])\n",
    "df.head(15)\n",
    "df[\"transmission\"].unique()\n"
   ]
  },
  {
   "cell_type": "code",
   "execution_count": 85,
   "id": "23cfa067",
   "metadata": {},
   "outputs": [],
   "source": [
    "import matplotlib.pyplot as plt\n",
    "import seaborn as sns"
   ]
  },
  {
   "cell_type": "code",
   "execution_count": 86,
   "id": "9087353d",
   "metadata": {},
   "outputs": [
    {
     "data": {
      "text/plain": [
       "<Axes: >"
      ]
     },
     "execution_count": 86,
     "metadata": {},
     "output_type": "execute_result"
    }
   ],
   "source": [
    "#checking for outliers in selling price \n",
    "df.boxplot(column=\"selling_price\")"
   ]
  },
  {
   "cell_type": "code",
   "execution_count": 87,
   "id": "851a67f2",
   "metadata": {},
   "outputs": [],
   "source": [
    "Q1=df[\"selling_price\"].quantile(.25)\n",
    "Q3=df[\"selling_price\"].quantile(.75)\n",
    "IQR=Q3-Q1"
   ]
  },
  {
   "cell_type": "code",
   "execution_count": 88,
   "id": "9892e4d4",
   "metadata": {},
   "outputs": [],
   "source": [
    "lower=Q1-1.5*IQR\n",
    "upper=Q3+1.5*IQR"
   ]
  },
  {
   "cell_type": "code",
   "execution_count": 89,
   "id": "0c771700",
   "metadata": {},
   "outputs": [
    {
     "name": "stdout",
     "output_type": "stream",
     "text": [
      "Outliers:                                      name  year  selling_price  km_driven  \\\n",
      "41     Jeep Compass 1.4 Limited Plus BSIV  2019        2100000       5000   \n",
      "47                 Toyota Fortuner 4x4 MT  2014        1500000      77000   \n",
      "49             Mercedes-Benz B Class B180  2014        1450000      27800   \n",
      "55    Toyota Innova Crysta 2.8 ZX AT BSIV  2016        1650000     127700   \n",
      "57             Audi A6 2.0 TDI Technology  2013        1750000      33900   \n",
      "...                                   ...   ...            ...        ...   \n",
      "7951                 Hyundai Creta 1.6 SX  2018        1220000      11000   \n",
      "7963        Renault Captur 1.5 Diesel RXT  2018        1265000      12000   \n",
      "7967              BMW 3 Series 320d Sedan  2011        1500000      84925   \n",
      "8058              Audi A3 40 TFSI Premium  2017        1689999       8000   \n",
      "8108             Kia Seltos HTX Plus AT D  2019        1575000      20000   \n",
      "\n",
      "        fuel seller_type transmission         owner  mileage(km/ltr/kg)  \\\n",
      "41    Petrol  Individual    Automatic   First Owner               16.00   \n",
      "47    Diesel      Dealer       Manual   First Owner               12.55   \n",
      "49    Diesel      Dealer    Automatic  Second Owner               14.80   \n",
      "55    Diesel      Dealer    Automatic  Second Owner               11.36   \n",
      "57    Diesel      Dealer    Automatic  Second Owner               17.68   \n",
      "...      ...         ...          ...           ...                 ...   \n",
      "7951  Petrol  Individual       Manual   First Owner               15.80   \n",
      "7963  Diesel  Individual       Manual   First Owner               20.37   \n",
      "7967  Diesel  Individual    Automatic   First Owner               16.07   \n",
      "8058  Petrol      Dealer    Automatic   First Owner               16.60   \n",
      "8108  Diesel  Individual    Automatic   First Owner               17.80   \n",
      "\n",
      "      engine max_power  seats  Age  \n",
      "41    1368.0    160.77    5.0    6  \n",
      "47    2982.0     168.5    7.0   11  \n",
      "49    2143.0     120.7    5.0   11  \n",
      "55    2755.0     171.5    7.0    9  \n",
      "57    1968.0    174.33    5.0   12  \n",
      "...      ...       ...    ...  ...  \n",
      "7951  1591.0     121.3    5.0    7  \n",
      "7963  1461.0    108.45    5.0    7  \n",
      "7967  1995.0       181    5.0   14  \n",
      "8058  1798.0     177.5    5.0    8  \n",
      "8108  1493.0     113.4    5.0    6  \n",
      "\n",
      "[328 rows x 13 columns]\n"
     ]
    }
   ],
   "source": [
    "outlier=df[(df[\"selling_price\"]<lower) | (df[\"selling_price\"]>upper)]\n",
    "print(\"Outliers:\", outlier)"
   ]
  },
  {
   "cell_type": "markdown",
   "id": "fb73db83",
   "metadata": {},
   "source": [
    "#### Boxplot \n",
    "IQR represents the 50% of the selling prices \n",
    "Median is the line dividing the box in 2 and is on the lower half in the box, so most cars are on the lower selling price.\n",
    "The whiskers show the spread of the data, range is given by the highest whisker - the lowest whisker\n",
    "The box on the upper is larger than the box on the lower Q3-Q2 > Q2-Q1 and for this reason, the data is said to be skewed to the right. \n",
    "Outliers represent rare data, and can distort the pattern in the data, causing the model to learn from noise "
   ]
  },
  {
   "cell_type": "code",
   "execution_count": 90,
   "id": "5f436306",
   "metadata": {},
   "outputs": [
    {
     "name": "stdout",
     "output_type": "stream",
     "text": [
      "29999 4600000\n"
     ]
    }
   ],
   "source": [
    "#removing cars priced below 10,000 or above 5,000,000\n",
    "df = df[(df['selling_price'] >= 10000) & (df['selling_price'] <= 5000000)]\n",
    "df.describe()\n",
    "#check the new range\n",
    "print(df[\"selling_price\"].min(), df['selling_price'].max())"
   ]
  },
  {
   "cell_type": "markdown",
   "id": "3201c699",
   "metadata": {},
   "source": [
    "#### Why setting realistic price limits can help improve model performance\n",
    "\n",
    "It removes outliers that lead to overfitting, so the model only learns from patterns\n",
    "Limiting the selling price leads to having a specific dataset that is defined; analysis is easier."
   ]
  },
  {
   "cell_type": "code",
   "execution_count": 91,
   "id": "edf953db",
   "metadata": {},
   "outputs": [],
   "source": [
    "#standard column heads\n",
    "df.columns = df.columns.str.lower().str.replace(\" \" , \"_\")"
   ]
  },
  {
   "cell_type": "code",
   "execution_count": 92,
   "id": "10b75b5b",
   "metadata": {},
   "outputs": [
    {
     "name": "stdout",
     "output_type": "stream",
     "text": [
      "<class 'pandas.core.frame.DataFrame'>\n",
      "Index: 6906 entries, 0 to 8125\n",
      "Data columns (total 13 columns):\n",
      " #   Column              Non-Null Count  Dtype  \n",
      "---  ------              --------------  -----  \n",
      " 0   name                6906 non-null   object \n",
      " 1   year                6906 non-null   int64  \n",
      " 2   selling_price       6906 non-null   int64  \n",
      " 3   km_driven           6906 non-null   int64  \n",
      " 4   fuel                6906 non-null   object \n",
      " 5   seller_type         6906 non-null   object \n",
      " 6   transmission        6906 non-null   object \n",
      " 7   owner               6906 non-null   object \n",
      " 8   mileage(km/ltr/kg)  6906 non-null   float64\n",
      " 9   engine              6698 non-null   float64\n",
      " 10  max_power           6701 non-null   object \n",
      " 11  seats               6698 non-null   float64\n",
      " 12  age                 6906 non-null   int64  \n",
      "dtypes: float64(3), int64(4), object(6)\n",
      "memory usage: 755.3+ KB\n"
     ]
    }
   ],
   "source": [
    "#removing non-numeric column and converting it to float\n",
    "df.info()"
   ]
  },
  {
   "cell_type": "code",
   "execution_count": 93,
   "id": "a2c520c4",
   "metadata": {},
   "outputs": [
    {
     "name": "stdout",
     "output_type": "stream",
     "text": [
      "206\n"
     ]
    }
   ],
   "source": [
    "df[\"max_power\"]=pd.to_numeric(df[\"max_power\"], errors=\"coerce\")\n",
    "#missing values\n",
    "print(df[\"max_power\"].isna().sum())"
   ]
  },
  {
   "cell_type": "code",
   "execution_count": 94,
   "id": "f21b6122",
   "metadata": {},
   "outputs": [],
   "source": [
    "#filling the missing values\n",
    "df[\"max_power\"]=df[\"max_power\"].fillna(df[\"max_power\"].median())\n",
    "df[\"engine\"]=df[\"engine\"].fillna(df[\"engine\"].median())\n",
    "df[\"seats\"]=df[\"seats\"].fillna(df[\"seats\"].mode()[0])"
   ]
  },
  {
   "cell_type": "code",
   "execution_count": 95,
   "id": "f073470b",
   "metadata": {},
   "outputs": [
    {
     "name": "stdout",
     "output_type": "stream",
     "text": [
      "int64 int64 float64\n"
     ]
    }
   ],
   "source": [
    "#checking data types\n",
    "print(df[\"age\"].dtype, df[\"selling_price\"].dtype, df[\"mileage(km/ltr/kg)\"].dtype)"
   ]
  },
  {
   "cell_type": "code",
   "execution_count": 96,
   "id": "56cde8b3",
   "metadata": {},
   "outputs": [
    {
     "name": "stdout",
     "output_type": "stream",
     "text": [
      "<class 'pandas.core.frame.DataFrame'>\n",
      "Index: 6906 entries, 0 to 8125\n",
      "Data columns (total 13 columns):\n",
      " #   Column              Non-Null Count  Dtype  \n",
      "---  ------              --------------  -----  \n",
      " 0   name                6906 non-null   object \n",
      " 1   year                6906 non-null   int64  \n",
      " 2   selling_price       6906 non-null   int64  \n",
      " 3   km_driven           6906 non-null   int64  \n",
      " 4   fuel                6906 non-null   object \n",
      " 5   seller_type         6906 non-null   object \n",
      " 6   transmission        6906 non-null   object \n",
      " 7   owner               6906 non-null   object \n",
      " 8   mileage(km/ltr/kg)  6906 non-null   float64\n",
      " 9   engine              6906 non-null   float64\n",
      " 10  max_power           6906 non-null   float64\n",
      " 11  seats               6906 non-null   float64\n",
      " 12  age                 6906 non-null   int64  \n",
      "dtypes: float64(4), int64(4), object(5)\n",
      "memory usage: 755.3+ KB\n"
     ]
    }
   ],
   "source": [
    "df.info()"
   ]
  },
  {
   "cell_type": "code",
   "execution_count": 97,
   "id": "7ffbc9a5",
   "metadata": {},
   "outputs": [
    {
     "data": {
      "text/html": [
       "<div>\n",
       "<style scoped>\n",
       "    .dataframe tbody tr th:only-of-type {\n",
       "        vertical-align: middle;\n",
       "    }\n",
       "\n",
       "    .dataframe tbody tr th {\n",
       "        vertical-align: top;\n",
       "    }\n",
       "\n",
       "    .dataframe thead th {\n",
       "        text-align: right;\n",
       "    }\n",
       "</style>\n",
       "<table border=\"1\" class=\"dataframe\">\n",
       "  <thead>\n",
       "    <tr style=\"text-align: right;\">\n",
       "      <th></th>\n",
       "      <th>name</th>\n",
       "      <th>year</th>\n",
       "      <th>selling_price</th>\n",
       "      <th>km_driven</th>\n",
       "      <th>fuel</th>\n",
       "      <th>seller_type</th>\n",
       "      <th>transmission</th>\n",
       "      <th>owner</th>\n",
       "      <th>mileage(km/ltr/kg)</th>\n",
       "      <th>engine</th>\n",
       "      <th>max_power</th>\n",
       "      <th>seats</th>\n",
       "      <th>age</th>\n",
       "      <th>price_per_km</th>\n",
       "    </tr>\n",
       "  </thead>\n",
       "  <tbody>\n",
       "    <tr>\n",
       "      <th>0</th>\n",
       "      <td>Maruti Swift Dzire VDI</td>\n",
       "      <td>2014</td>\n",
       "      <td>450000</td>\n",
       "      <td>145500</td>\n",
       "      <td>Diesel</td>\n",
       "      <td>Individual</td>\n",
       "      <td>Manual</td>\n",
       "      <td>First Owner</td>\n",
       "      <td>23.40</td>\n",
       "      <td>1248.0</td>\n",
       "      <td>74.00</td>\n",
       "      <td>5.0</td>\n",
       "      <td>11</td>\n",
       "      <td>19230.769231</td>\n",
       "    </tr>\n",
       "    <tr>\n",
       "      <th>1</th>\n",
       "      <td>Skoda Rapid 1.5 TDI Ambition</td>\n",
       "      <td>2014</td>\n",
       "      <td>370000</td>\n",
       "      <td>120000</td>\n",
       "      <td>Diesel</td>\n",
       "      <td>Individual</td>\n",
       "      <td>Manual</td>\n",
       "      <td>Second Owner</td>\n",
       "      <td>21.14</td>\n",
       "      <td>1498.0</td>\n",
       "      <td>103.52</td>\n",
       "      <td>5.0</td>\n",
       "      <td>11</td>\n",
       "      <td>17502.365184</td>\n",
       "    </tr>\n",
       "    <tr>\n",
       "      <th>2</th>\n",
       "      <td>Honda City 2017-2020 EXi</td>\n",
       "      <td>2006</td>\n",
       "      <td>158000</td>\n",
       "      <td>140000</td>\n",
       "      <td>Petrol</td>\n",
       "      <td>Individual</td>\n",
       "      <td>Manual</td>\n",
       "      <td>Third Owner</td>\n",
       "      <td>17.70</td>\n",
       "      <td>1497.0</td>\n",
       "      <td>78.00</td>\n",
       "      <td>5.0</td>\n",
       "      <td>19</td>\n",
       "      <td>8926.553672</td>\n",
       "    </tr>\n",
       "    <tr>\n",
       "      <th>3</th>\n",
       "      <td>Hyundai i20 Sportz Diesel</td>\n",
       "      <td>2010</td>\n",
       "      <td>225000</td>\n",
       "      <td>127000</td>\n",
       "      <td>Diesel</td>\n",
       "      <td>Individual</td>\n",
       "      <td>Manual</td>\n",
       "      <td>First Owner</td>\n",
       "      <td>23.00</td>\n",
       "      <td>1396.0</td>\n",
       "      <td>90.00</td>\n",
       "      <td>5.0</td>\n",
       "      <td>15</td>\n",
       "      <td>9782.608696</td>\n",
       "    </tr>\n",
       "    <tr>\n",
       "      <th>4</th>\n",
       "      <td>Maruti Swift VXI BSIII</td>\n",
       "      <td>2007</td>\n",
       "      <td>130000</td>\n",
       "      <td>120000</td>\n",
       "      <td>Petrol</td>\n",
       "      <td>Individual</td>\n",
       "      <td>Manual</td>\n",
       "      <td>First Owner</td>\n",
       "      <td>16.10</td>\n",
       "      <td>1298.0</td>\n",
       "      <td>88.20</td>\n",
       "      <td>5.0</td>\n",
       "      <td>18</td>\n",
       "      <td>8074.534161</td>\n",
       "    </tr>\n",
       "  </tbody>\n",
       "</table>\n",
       "</div>"
      ],
      "text/plain": [
       "                           name  year  selling_price  km_driven    fuel  \\\n",
       "0        Maruti Swift Dzire VDI  2014         450000     145500  Diesel   \n",
       "1  Skoda Rapid 1.5 TDI Ambition  2014         370000     120000  Diesel   \n",
       "2      Honda City 2017-2020 EXi  2006         158000     140000  Petrol   \n",
       "3     Hyundai i20 Sportz Diesel  2010         225000     127000  Diesel   \n",
       "4        Maruti Swift VXI BSIII  2007         130000     120000  Petrol   \n",
       "\n",
       "  seller_type transmission         owner  mileage(km/ltr/kg)  engine  \\\n",
       "0  Individual       Manual   First Owner               23.40  1248.0   \n",
       "1  Individual       Manual  Second Owner               21.14  1498.0   \n",
       "2  Individual       Manual   Third Owner               17.70  1497.0   \n",
       "3  Individual       Manual   First Owner               23.00  1396.0   \n",
       "4  Individual       Manual   First Owner               16.10  1298.0   \n",
       "\n",
       "   max_power  seats  age  price_per_km  \n",
       "0      74.00    5.0   11  19230.769231  \n",
       "1     103.52    5.0   11  17502.365184  \n",
       "2      78.00    5.0   19   8926.553672  \n",
       "3      90.00    5.0   15   9782.608696  \n",
       "4      88.20    5.0   18   8074.534161  "
      ]
     },
     "execution_count": 97,
     "metadata": {},
     "output_type": "execute_result"
    }
   ],
   "source": [
    "#creating price_per_km\n",
    "df[\"price_per_km\"]=df[\"selling_price\"]/df[\"mileage(km/ltr/kg)\"]\n",
    "df.head()"
   ]
  },
  {
   "cell_type": "code",
   "execution_count": 98,
   "id": "218c962a",
   "metadata": {},
   "outputs": [
    {
     "name": "stdout",
     "output_type": "stream",
     "text": [
      "      index                               name  year  selling_price  \\\n",
      "0         0             Maruti Swift Dzire VDI  2014         450000   \n",
      "1         1       Skoda Rapid 1.5 TDI Ambition  2014         370000   \n",
      "2         2           Honda City 2017-2020 EXi  2006         158000   \n",
      "3         3          Hyundai i20 Sportz Diesel  2010         225000   \n",
      "4         4             Maruti Swift VXI BSIII  2007         130000   \n",
      "...     ...                                ...   ...            ...   \n",
      "6901   8121  Maruti Wagon R VXI BS IV with ABS  2013         260000   \n",
      "6902   8122         Hyundai i20 Magna 1.4 CRDi  2014         475000   \n",
      "6903   8123                  Hyundai i20 Magna  2013         320000   \n",
      "6904   8124              Hyundai Verna CRDi SX  2007         135000   \n",
      "6905   8125             Maruti Swift Dzire ZDi  2009         382000   \n",
      "\n",
      "      km_driven    fuel seller_type transmission                 owner  \\\n",
      "0        145500  Diesel  Individual       Manual           First Owner   \n",
      "1        120000  Diesel  Individual       Manual          Second Owner   \n",
      "2        140000  Petrol  Individual       Manual           Third Owner   \n",
      "3        127000  Diesel  Individual       Manual           First Owner   \n",
      "4        120000  Petrol  Individual       Manual           First Owner   \n",
      "...         ...     ...         ...          ...                   ...   \n",
      "6901      50000  Petrol  Individual       Manual          Second Owner   \n",
      "6902      80000  Diesel  Individual       Manual          Second Owner   \n",
      "6903     110000  Petrol  Individual       Manual           First Owner   \n",
      "6904     119000  Diesel  Individual       Manual  Fourth & Above Owner   \n",
      "6905     120000  Diesel  Individual       Manual           First Owner   \n",
      "\n",
      "      mileage(km/ltr/kg)  engine  max_power  seats  age  price_per_km  \n",
      "0                  23.40  1248.0      74.00    5.0   11  19230.769231  \n",
      "1                  21.14  1498.0     103.52    5.0   11  17502.365184  \n",
      "2                  17.70  1497.0      78.00    5.0   19   8926.553672  \n",
      "3                  23.00  1396.0      90.00    5.0   15   9782.608696  \n",
      "4                  16.10  1298.0      88.20    5.0   18   8074.534161  \n",
      "...                  ...     ...        ...    ...  ...           ...  \n",
      "6901               18.90   998.0      67.10    5.0   12  13756.613757  \n",
      "6902               22.54  1396.0      88.73    5.0   11  21073.646850  \n",
      "6903               18.50  1197.0      82.85    5.0   12  17297.297297  \n",
      "6904               16.80  1493.0     110.00    5.0   18   8035.714286  \n",
      "6905               19.30  1248.0      73.90    5.0   16  19792.746114  \n",
      "\n",
      "[6906 rows x 15 columns]\n"
     ]
    }
   ],
   "source": [
    "df= df.reset_index()\n",
    "print(df)"
   ]
  },
  {
   "cell_type": "code",
   "execution_count": 99,
   "id": "c0087ffe",
   "metadata": {},
   "outputs": [],
   "source": [
    "df = df.drop(\"index\", axis=1)"
   ]
  },
  {
   "cell_type": "code",
   "execution_count": 100,
   "id": "4d7a57e4",
   "metadata": {},
   "outputs": [
    {
     "name": "stdout",
     "output_type": "stream",
     "text": [
      "<class 'pandas.core.frame.DataFrame'>\n",
      "RangeIndex: 6906 entries, 0 to 6905\n",
      "Data columns (total 14 columns):\n",
      " #   Column              Non-Null Count  Dtype  \n",
      "---  ------              --------------  -----  \n",
      " 0   name                6906 non-null   object \n",
      " 1   year                6906 non-null   int64  \n",
      " 2   selling_price       6906 non-null   int64  \n",
      " 3   km_driven           6906 non-null   int64  \n",
      " 4   fuel                6906 non-null   object \n",
      " 5   seller_type         6906 non-null   object \n",
      " 6   transmission        6906 non-null   object \n",
      " 7   owner               6906 non-null   object \n",
      " 8   mileage(km/ltr/kg)  6906 non-null   float64\n",
      " 9   engine              6906 non-null   float64\n",
      " 10  max_power           6906 non-null   float64\n",
      " 11  seats               6906 non-null   float64\n",
      " 12  age                 6906 non-null   int64  \n",
      " 13  price_per_km        6906 non-null   float64\n",
      "dtypes: float64(5), int64(4), object(5)\n",
      "memory usage: 755.5+ KB\n"
     ]
    }
   ],
   "source": [
    "df.info()"
   ]
  },
  {
   "cell_type": "code",
   "execution_count": 101,
   "id": "e64a824f",
   "metadata": {},
   "outputs": [],
   "source": [
    "df.to_csv('cleaned_cars.csv', index=False)"
   ]
  },
  {
   "cell_type": "code",
   "execution_count": 102,
   "id": "987c3963",
   "metadata": {},
   "outputs": [
    {
     "data": {
      "text/html": [
       "<div>\n",
       "<style scoped>\n",
       "    .dataframe tbody tr th:only-of-type {\n",
       "        vertical-align: middle;\n",
       "    }\n",
       "\n",
       "    .dataframe tbody tr th {\n",
       "        vertical-align: top;\n",
       "    }\n",
       "\n",
       "    .dataframe thead th {\n",
       "        text-align: right;\n",
       "    }\n",
       "</style>\n",
       "<table border=\"1\" class=\"dataframe\">\n",
       "  <thead>\n",
       "    <tr style=\"text-align: right;\">\n",
       "      <th></th>\n",
       "      <th>name</th>\n",
       "      <th>year</th>\n",
       "      <th>selling_price</th>\n",
       "      <th>km_driven</th>\n",
       "      <th>fuel</th>\n",
       "      <th>seller_type</th>\n",
       "      <th>transmission</th>\n",
       "      <th>owner</th>\n",
       "      <th>mileage(km/ltr/kg)</th>\n",
       "      <th>engine</th>\n",
       "      <th>max_power</th>\n",
       "      <th>seats</th>\n",
       "      <th>age</th>\n",
       "      <th>price_per_km</th>\n",
       "    </tr>\n",
       "  </thead>\n",
       "  <tbody>\n",
       "    <tr>\n",
       "      <th>0</th>\n",
       "      <td>Maruti Swift Dzire VDI</td>\n",
       "      <td>2014</td>\n",
       "      <td>450000</td>\n",
       "      <td>145500</td>\n",
       "      <td>Diesel</td>\n",
       "      <td>Individual</td>\n",
       "      <td>Manual</td>\n",
       "      <td>First Owner</td>\n",
       "      <td>23.40</td>\n",
       "      <td>1248.0</td>\n",
       "      <td>74.00</td>\n",
       "      <td>5.0</td>\n",
       "      <td>11</td>\n",
       "      <td>19230.769231</td>\n",
       "    </tr>\n",
       "    <tr>\n",
       "      <th>1</th>\n",
       "      <td>Skoda Rapid 1.5 TDI Ambition</td>\n",
       "      <td>2014</td>\n",
       "      <td>370000</td>\n",
       "      <td>120000</td>\n",
       "      <td>Diesel</td>\n",
       "      <td>Individual</td>\n",
       "      <td>Manual</td>\n",
       "      <td>Second Owner</td>\n",
       "      <td>21.14</td>\n",
       "      <td>1498.0</td>\n",
       "      <td>103.52</td>\n",
       "      <td>5.0</td>\n",
       "      <td>11</td>\n",
       "      <td>17502.365184</td>\n",
       "    </tr>\n",
       "    <tr>\n",
       "      <th>2</th>\n",
       "      <td>Honda City 2017-2020 EXi</td>\n",
       "      <td>2006</td>\n",
       "      <td>158000</td>\n",
       "      <td>140000</td>\n",
       "      <td>Petrol</td>\n",
       "      <td>Individual</td>\n",
       "      <td>Manual</td>\n",
       "      <td>Third Owner</td>\n",
       "      <td>17.70</td>\n",
       "      <td>1497.0</td>\n",
       "      <td>78.00</td>\n",
       "      <td>5.0</td>\n",
       "      <td>19</td>\n",
       "      <td>8926.553672</td>\n",
       "    </tr>\n",
       "    <tr>\n",
       "      <th>3</th>\n",
       "      <td>Hyundai i20 Sportz Diesel</td>\n",
       "      <td>2010</td>\n",
       "      <td>225000</td>\n",
       "      <td>127000</td>\n",
       "      <td>Diesel</td>\n",
       "      <td>Individual</td>\n",
       "      <td>Manual</td>\n",
       "      <td>First Owner</td>\n",
       "      <td>23.00</td>\n",
       "      <td>1396.0</td>\n",
       "      <td>90.00</td>\n",
       "      <td>5.0</td>\n",
       "      <td>15</td>\n",
       "      <td>9782.608696</td>\n",
       "    </tr>\n",
       "    <tr>\n",
       "      <th>4</th>\n",
       "      <td>Maruti Swift VXI BSIII</td>\n",
       "      <td>2007</td>\n",
       "      <td>130000</td>\n",
       "      <td>120000</td>\n",
       "      <td>Petrol</td>\n",
       "      <td>Individual</td>\n",
       "      <td>Manual</td>\n",
       "      <td>First Owner</td>\n",
       "      <td>16.10</td>\n",
       "      <td>1298.0</td>\n",
       "      <td>88.20</td>\n",
       "      <td>5.0</td>\n",
       "      <td>18</td>\n",
       "      <td>8074.534161</td>\n",
       "    </tr>\n",
       "  </tbody>\n",
       "</table>\n",
       "</div>"
      ],
      "text/plain": [
       "                           name  year  selling_price  km_driven    fuel  \\\n",
       "0        Maruti Swift Dzire VDI  2014         450000     145500  Diesel   \n",
       "1  Skoda Rapid 1.5 TDI Ambition  2014         370000     120000  Diesel   \n",
       "2      Honda City 2017-2020 EXi  2006         158000     140000  Petrol   \n",
       "3     Hyundai i20 Sportz Diesel  2010         225000     127000  Diesel   \n",
       "4        Maruti Swift VXI BSIII  2007         130000     120000  Petrol   \n",
       "\n",
       "  seller_type transmission         owner  mileage(km/ltr/kg)  engine  \\\n",
       "0  Individual       Manual   First Owner               23.40  1248.0   \n",
       "1  Individual       Manual  Second Owner               21.14  1498.0   \n",
       "2  Individual       Manual   Third Owner               17.70  1497.0   \n",
       "3  Individual       Manual   First Owner               23.00  1396.0   \n",
       "4  Individual       Manual   First Owner               16.10  1298.0   \n",
       "\n",
       "   max_power  seats  age  price_per_km  \n",
       "0      74.00    5.0   11  19230.769231  \n",
       "1     103.52    5.0   11  17502.365184  \n",
       "2      78.00    5.0   19   8926.553672  \n",
       "3      90.00    5.0   15   9782.608696  \n",
       "4      88.20    5.0   18   8074.534161  "
      ]
     },
     "execution_count": 102,
     "metadata": {},
     "output_type": "execute_result"
    }
   ],
   "source": [
    "import pandas as pd\n",
    "import numpy as np\n",
    "\n",
    "df= pd.read_csv(r\"cleaned_cars.csv\")\n",
    "df.head(5)\n"
   ]
  },
  {
   "cell_type": "code",
   "execution_count": 103,
   "id": "1769aff2",
   "metadata": {},
   "outputs": [
    {
     "data": {
      "text/plain": [
       "np.float64(501378.18114682887)"
      ]
     },
     "execution_count": 103,
     "metadata": {},
     "output_type": "execute_result"
    }
   ],
   "source": [
    "#mean selling price \n",
    "df.selling_price.mean()"
   ]
  },
  {
   "cell_type": "markdown",
   "id": "3a9593bc",
   "metadata": {},
   "source": [
    "Exploratory Data Analysis"
   ]
  },
  {
   "cell_type": "code",
   "execution_count": 104,
   "id": "c8def95f",
   "metadata": {},
   "outputs": [
    {
     "name": "stdout",
     "output_type": "stream",
     "text": [
      "501378.18114682887\n"
     ]
    }
   ],
   "source": [
    "# average selling price of cars\n",
    "selling_price_mean=df[\"selling_price\"].mean()\n",
    "print(selling_price_mean)"
   ]
  },
  {
   "cell_type": "code",
   "execution_count": 105,
   "id": "91891220",
   "metadata": {},
   "outputs": [
    {
     "name": "stdout",
     "output_type": "stream",
     "text": [
      "fuel\n",
      "Diesel    3741\n",
      "Petrol    3071\n",
      "CNG         56\n",
      "LPG         38\n",
      "Name: count, dtype: int64\n"
     ]
    }
   ],
   "source": [
    "#group\n",
    "value_counts = df[\"fuel\"].value_counts()\n",
    "print(value_counts)"
   ]
  },
  {
   "cell_type": "code",
   "execution_count": 106,
   "id": "b752cd0b",
   "metadata": {},
   "outputs": [
    {
     "name": "stdout",
     "output_type": "stream",
     "text": [
      "fuel\n",
      "Diesel    3741\n",
      "Petrol    3071\n",
      "CNG         56\n",
      "LPG         38\n",
      "Name: count, dtype: int64\n"
     ]
    }
   ],
   "source": [
    "#most common fuel types\n",
    "fuel_mode=df[\"fuel\"].value_counts()\n",
    "print(fuel_mode)"
   ]
  },
  {
   "cell_type": "code",
   "execution_count": 107,
   "id": "d496b3e7",
   "metadata": {},
   "outputs": [
    {
     "name": "stdout",
     "output_type": "stream",
     "text": [
      "Diesel\n",
      "most_common_fuel_name = 'Diesel' + 3741\n"
     ]
    }
   ],
   "source": [
    "most_common_fuel_name=fuel_mode.idxmax()\n",
    "print(most_common_fuel_name)\n",
    "most_common_fuel=fuel_mode.max()\n",
    "print(f\"{most_common_fuel_name = } + {most_common_fuel}\")"
   ]
  },
  {
   "cell_type": "code",
   "execution_count": 108,
   "id": "e05742fc",
   "metadata": {},
   "outputs": [
    {
     "name": "stdout",
     "output_type": "stream",
     "text": [
      "Most common fuel is Diesel with 3741 counts.\n"
     ]
    }
   ],
   "source": [
    "print(f\"Most common fuel is {most_common_fuel_name} with {most_common_fuel} counts.\")"
   ]
  },
  {
   "cell_type": "code",
   "execution_count": 109,
   "id": "64966579",
   "metadata": {},
   "outputs": [
    {
     "data": {
      "image/png": "[encoded data removed]",
      "text/plain": [
       "<Figure size 640x480 with 1 Axes>"
      ]
     },
     "metadata": {},
     "output_type": "display_data"
    }
   ],
   "source": [
    "import matplotlib.pyplot as plt\n",
    "import seaborn as sns\n",
    "\n",
    "sns.histplot(data=df, x=\"selling_price\",bins=40,color=\"Green\")\n",
    "plt.title(\"Selling Price Histogram\")\n",
    "plt.xlabel(\"selling_price\")\n",
    "plt.show()"
   ]
  },
  {
   "cell_type": "code",
   "execution_count": 110,
   "id": "c7de6b4c",
   "metadata": {},
   "outputs": [
    {
     "data": {
      "image/png": "[encoded data removed]",
      "text/plain": [
       "<Figure size 640x480 with 1 Axes>"
      ]
     },
     "metadata": {},
     "output_type": "display_data"
    }
   ],
   "source": [
    "#19 scatterplots\n",
    "#plt.figure(figsize=(10, 6))\n",
    "plt.scatter(df[\"age\"], df[\"selling_price\"])\n",
    "\n",
    "# Adding titles and labels\n",
    "plt.title(\"Relationship Between Car Age and Selling Price\")\n",
    "plt.xlabel(\"Car Age (Years)\")\n",
    "# Show the plot\n",
    "plt.grid()\n",
    "plt.show()"
   ]
  },
  {
   "cell_type": "code",
   "execution_count": 111,
   "id": "0275befe",
   "metadata": {},
   "outputs": [],
   "source": [
    "#20 Group cars by fuel type and find the average selling price for each group.\n",
    "#getting the types to groups \n",
    "average_price = df.groupby(\"fuel\")\n",
    "#getting the mean of the groups\n",
    "average_price = df.groupby(\"fuel\")[\"selling_price\"].mean().reset_index()"
   ]
  },
  {
   "cell_type": "code",
   "execution_count": 112,
   "id": "100b6a92",
   "metadata": {},
   "outputs": [
    {
     "name": "stdout",
     "output_type": "stream",
     "text": [
      "     fuel  selling_price\n",
      "0     CNG  300499.946429\n",
      "1  Diesel  620448.482224\n",
      "2     LPG  200421.052632\n",
      "3  Petrol  363717.339629\n"
     ]
    }
   ],
   "source": [
    "average_types=[\"Fuel\", \"Average Selling Price\"]\n",
    "\n",
    "print(average_price)"
   ]
  },
  {
   "cell_type": "code",
   "execution_count": 113,
   "id": "c688dcdc",
   "metadata": {},
   "outputs": [
    {
     "name": "stdout",
     "output_type": "stream",
     "text": [
      "transmission\n",
      "Manual       6342\n",
      "Automatic     564\n",
      "Name: count, dtype: int64\n"
     ]
    }
   ],
   "source": [
    "#21cars per transmission\n",
    "count_of_transmission=df[\"transmission\"].value_counts()\n",
    "print(count_of_transmission)"
   ]
  },
  {
   "cell_type": "code",
   "execution_count": 114,
   "id": "c804267c",
   "metadata": {},
   "outputs": [
    {
     "data": {
      "image/png": "[encoded data removed]",
      "text/plain": [
       "<Figure size 640x480 with 1 Axes>"
      ]
     },
     "metadata": {},
     "output_type": "display_data"
    }
   ],
   "source": [
    "plt.bar(count_of_transmission.index, count_of_transmission.values)\n",
    "plt.title(\"Transmission type\")\n",
    "plt.xlabel(\"Transmission\")\n",
    "plt.ylabel(\"Number of cars\")\n",
    "plt.show()"
   ]
  },
  {
   "cell_type": "code",
   "execution_count": 115,
   "id": "1462d544",
   "metadata": {},
   "outputs": [
    {
     "name": "stdout",
     "output_type": "stream",
     "text": [
      "33.44\n"
     ]
    }
   ],
   "source": [
    "#22 highest mileage \n",
    "print(df[\"mileage(km/ltr/kg)\"].max())"
   ]
  },
  {
   "cell_type": "code",
   "execution_count": 116,
   "id": "c10a9a51",
   "metadata": {},
   "outputs": [
    {
     "name": "stdout",
     "output_type": "stream",
     "text": [
      "Pearson correlation coefficient: -0.1206984927318877\n"
     ]
    }
   ],
   "source": [
    "#23 correlation\n",
    "correlation = df[\"mileage(km/ltr/kg)\"].corr(df[\"selling_price\"])\n",
    "print(f\"Pearson correlation coefficient: {correlation}\")"
   ]
  },
  {
   "cell_type": "code",
   "execution_count": 117,
   "id": "d8ab5a46",
   "metadata": {},
   "outputs": [
    {
     "data": {
      "text/plain": [
       "<Axes: >"
      ]
     },
     "execution_count": 117,
     "metadata": {},
     "output_type": "execute_result"
    }
   ],
   "source": [
    "#24 heatmaps\n",
    "numerical_columns=df[[\"selling_price\",\"km_driven\",\"mileage(km/ltr/kg)\",\"age\",\"price_per_km\"]]\n",
    "sns.heatmap(numerical_columns.corr(),annot=False,cmap=\"viridis\")"
   ]
  },
  {
   "cell_type": "code",
   "execution_count": 118,
   "id": "984ff912",
   "metadata": {},
   "outputs": [
    {
     "name": "stdout",
     "output_type": "stream",
     "text": [
      "<class 'pandas.core.frame.DataFrame'>\n",
      "RangeIndex: 6906 entries, 0 to 6905\n",
      "Data columns (total 14 columns):\n",
      " #   Column              Non-Null Count  Dtype  \n",
      "---  ------              --------------  -----  \n",
      " 0   name                6906 non-null   object \n",
      " 1   year                6906 non-null   int64  \n",
      " 2   selling_price       6906 non-null   int64  \n",
      " 3   km_driven           6906 non-null   int64  \n",
      " 4   fuel                6906 non-null   object \n",
      " 5   seller_type         6906 non-null   object \n",
      " 6   transmission        6906 non-null   object \n",
      " 7   owner               6906 non-null   object \n",
      " 8   mileage(km/ltr/kg)  6906 non-null   float64\n",
      " 9   engine              6906 non-null   float64\n",
      " 10  max_power           6906 non-null   float64\n",
      " 11  seats               6906 non-null   float64\n",
      " 12  age                 6906 non-null   int64  \n",
      " 13  price_per_km        6906 non-null   float64\n",
      "dtypes: float64(5), int64(4), object(5)\n",
      "memory usage: 755.5+ KB\n"
     ]
    }
   ],
   "source": [
    "df.info()"
   ]
  },
  {
   "cell_type": "code",
   "execution_count": 119,
   "id": "6b407d94",
   "metadata": {},
   "outputs": [
    {
     "data": {
      "text/plain": [
       "transmission\n",
       "Automatic    1.143215e+06\n",
       "Manual       4.442991e+05\n",
       "Name: selling_price, dtype: float64"
      ]
     },
     "execution_count": 119,
     "metadata": {},
     "output_type": "execute_result"
    }
   ],
   "source": [
    "#25 manual cars are generally cheaper or more expensive than automatic cars.\n",
    "df.groupby(\"transmission\")[\"selling_price\"].mean()"
   ]
  },
  {
   "cell_type": "code",
   "execution_count": 120,
   "id": "10c9b4da",
   "metadata": {},
   "outputs": [
    {
     "data": {
      "text/plain": [
       "year\n",
       "1983    300000.000000\n",
       "1991     55000.000000\n",
       "1994     88000.000000\n",
       "1995    107500.000000\n",
       "1996     81666.666667\n",
       "1997     90181.727273\n",
       "1998     73100.000000\n",
       "1999     71470.588235\n",
       "2000     90047.850000\n",
       "2001     47220.333333\n",
       "2002     99153.807692\n",
       "2003     97034.021277\n",
       "2004    109364.250000\n",
       "2005    137994.494505\n",
       "2006    164383.308943\n",
       "2007    174894.505682\n",
       "2008    208397.639024\n",
       "2009    227691.620833\n",
       "2010    273897.334211\n",
       "2011    318335.696751\n",
       "2012    351387.379139\n",
       "2013    451501.724199\n",
       "2014    511858.798623\n",
       "2015    589177.625551\n",
       "2016    653180.339105\n",
       "2017    708006.173913\n",
       "2018    825749.553897\n",
       "2019    795583.291667\n",
       "2020    786548.338710\n",
       "Name: selling_price, dtype: float64"
      ]
     },
     "execution_count": 120,
     "metadata": {},
     "output_type": "execute_result"
    }
   ],
   "source": [
    "#26 average selling price for each year of manufacture.\n",
    "df.groupby(\"year\")[\"selling_price\"].mean()"
   ]
  },
  {
   "cell_type": "code",
   "execution_count": 121,
   "id": "b74ac03b",
   "metadata": {},
   "outputs": [
    {
     "data": {
      "image/png": "[encoded data removed]",
      "text/plain": [
       "<Figure size 640x480 with 2 Axes>"
      ]
     },
     "metadata": {},
     "output_type": "display_data"
    },
    {
     "data": {
      "image/png": "[encoded data removed]",
      "text/plain": [
       "<Figure size 1200x600 with 1 Axes>"
      ]
     },
     "metadata": {},
     "output_type": "display_data"
    }
   ],
   "source": [
    "#27 line chart showing the trend of selling prices over the years.\n",
    "yearly_average=df.groupby(\"year\")[\"selling_price\"].mean()\n",
    "plt.figure(figsize=(12, 6))\n",
    "plt.plot(yearly_average.index, yearly_average.values)\n",
    "plt.title(\"Trend of Selling Price of cars over the years\")\n",
    "plt.xlabel(\"Year of Manufacture\")\n",
    "plt.ylabel(\"Average selling price\")\n",
    "plt.show()\n"
   ]
  },
  {
   "cell_type": "code",
   "execution_count": 122,
   "id": "0376aafe",
   "metadata": {},
   "outputs": [
    {
     "name": "stdout",
     "output_type": "stream",
     "text": [
      "        fuel                                      name  selling_price\n",
      "4961     CNG     Maruti Ertiga VXI CNG Limited Edition         545000\n",
      "283   Diesel  Mercedes-Benz GL-Class 220d 4MATIC Sport        4600000\n",
      "2783     LPG               Hyundai i10 Sportz 1.1L LPG         375000\n",
      "133   Petrol           Jeep Wrangler 2016-2019 3.6 4X4        4100000\n"
     ]
    }
   ],
   "source": [
    "\n",
    "#28 most expensive car for each fuel type\n",
    "most_expensive = df.loc[df.groupby(\"fuel\")[\"selling_price\"].idxmax()]\n",
    "\n",
    "print(most_expensive[[\"fuel\", \"name\", \"selling_price\"]])"
   ]
  },
  {
   "cell_type": "code",
   "execution_count": 123,
   "id": "935de709",
   "metadata": {},
   "outputs": [
    {
     "data": {
      "text/plain": [
       "name\n",
       "Maruti Swift Dzire VDI    118\n",
       "Name: name, dtype: int64"
      ]
     },
     "execution_count": 123,
     "metadata": {},
     "output_type": "execute_result"
    }
   ],
   "source": [
    "#29 which brand appears most frequently in the dataset\n",
    "df.groupby(\"name\")[\"name\"].count().nlargest(1)"
   ]
  },
  {
   "cell_type": "code",
   "execution_count": 124,
   "id": "3c5008a9",
   "metadata": {},
   "outputs": [],
   "source": [
    "#30 top 5 most common combinations of fuel type and transmission\n",
    "combination=df.groupby([\"fuel\",\"transmission\"]).size().reset_index(name=\"count\")"
   ]
  },
  {
   "cell_type": "code",
   "execution_count": 125,
   "id": "a41aebed",
   "metadata": {},
   "outputs": [
    {
     "name": "stdout",
     "output_type": "stream",
     "text": [
      "     fuel transmission  count\n",
      "2  Diesel       Manual   3457\n",
      "5  Petrol       Manual   2791\n",
      "1  Diesel    Automatic    284\n",
      "4  Petrol    Automatic    280\n",
      "0     CNG       Manual     56\n"
     ]
    }
   ],
   "source": [
    "top_combination=combination.sort_values(by=\"count\", ascending=False).head(5)\n",
    "print(top_combination)"
   ]
  },
  {
   "cell_type": "code",
   "execution_count": 126,
   "id": "961c31e5",
   "metadata": {},
   "outputs": [
    {
     "name": "stdout",
     "output_type": "stream",
     "text": [
      "fuel    transmission\n",
      "Diesel  Manual          3457\n",
      "Petrol  Manual          2791\n",
      "Diesel  Automatic        284\n",
      "Petrol  Automatic        280\n",
      "CNG     Manual            56\n",
      "Name: count, dtype: int64\n"
     ]
    }
   ],
   "source": [
    "top5_combinations = df[['fuel', 'transmission']].value_counts().head(5)\n",
    "\n",
    "print(top5_combinations)"
   ]
  },
  {
   "cell_type": "markdown",
   "id": "85c291d2",
   "metadata": {},
   "source": [
    "## The assumptions of:"
   ]
  },
  {
   "cell_type": "markdown",
   "id": "19848c0b",
   "metadata": {},
   "source": [
    "# Linearity\n",
    "The relationship between the independent and the dependent columns is linear.\n",
    "# Homoscedasticity\n",
    "Residuals are spread similarly across all vlues of the independent variables.\n",
    "# Normality of residuals\n",
    "/the residuals should be approximately normally distributed.\n",
    "# No Multicollinearity\n",
    "The independent variables should not be highly correlated with each other."
   ]
  },
  {
   "cell_type": "code",
   "execution_count": 127,
   "id": "b758cb29",
   "metadata": {},
   "outputs": [],
   "source": [
    "# Linearity"
   ]
  },
  {
   "cell_type": "code",
   "execution_count": 135,
   "id": "ae6bcbaa",
   "metadata": {},
   "outputs": [],
   "source": [
    "from sklearn.linear_model import LinearRegression\n",
    "from sklearn.model_selection import train_test_split\n",
    "from sklearn.preprocessing import LabelEncoder\n",
    "from sklearn.linear_model import LinearRegression, Lasso, Ridge\n",
    "from sklearn.metrics import mean_squared_error, mean_absolute_error, r2_score"
   ]
  },
  {
   "cell_type": "code",
   "execution_count": 129,
   "id": "d0ed797f",
   "metadata": {},
   "outputs": [
    {
     "name": "stdout",
     "output_type": "stream",
     "text": [
      "<class 'pandas.core.frame.DataFrame'>\n",
      "RangeIndex: 6906 entries, 0 to 6905\n",
      "Data columns (total 14 columns):\n",
      " #   Column              Non-Null Count  Dtype  \n",
      "---  ------              --------------  -----  \n",
      " 0   name                6906 non-null   object \n",
      " 1   year                6906 non-null   int64  \n",
      " 2   selling_price       6906 non-null   int64  \n",
      " 3   km_driven           6906 non-null   int64  \n",
      " 4   fuel                6906 non-null   object \n",
      " 5   seller_type         6906 non-null   object \n",
      " 6   transmission        6906 non-null   object \n",
      " 7   owner               6906 non-null   object \n",
      " 8   mileage(km/ltr/kg)  6906 non-null   float64\n",
      " 9   engine              6906 non-null   float64\n",
      " 10  max_power           6906 non-null   float64\n",
      " 11  seats               6906 non-null   float64\n",
      " 12  age                 6906 non-null   int64  \n",
      " 13  price_per_km        6906 non-null   float64\n",
      "dtypes: float64(5), int64(4), object(5)\n",
      "memory usage: 755.5+ KB\n"
     ]
    }
   ],
   "source": [
    "df.info()"
   ]
  },
  {
   "cell_type": "code",
   "execution_count": 149,
   "id": "d5c76098",
   "metadata": {},
   "outputs": [
    {
     "data": {
      "text/html": [
       "<div>\n",
       "<style scoped>\n",
       "    .dataframe tbody tr th:only-of-type {\n",
       "        vertical-align: middle;\n",
       "    }\n",
       "\n",
       "    .dataframe tbody tr th {\n",
       "        vertical-align: top;\n",
       "    }\n",
       "\n",
       "    .dataframe thead th {\n",
       "        text-align: right;\n",
       "    }\n",
       "</style>\n",
       "<table border=\"1\" class=\"dataframe\">\n",
       "  <thead>\n",
       "    <tr style=\"text-align: right;\">\n",
       "      <th></th>\n",
       "      <th>selling_price</th>\n",
       "      <th>km_driven</th>\n",
       "      <th>mileage(km/ltr/kg)</th>\n",
       "      <th>engine</th>\n",
       "      <th>max_power</th>\n",
       "      <th>seats</th>\n",
       "      <th>age</th>\n",
       "      <th>price_per_km</th>\n",
       "    </tr>\n",
       "  </thead>\n",
       "  <tbody>\n",
       "    <tr>\n",
       "      <th>0</th>\n",
       "      <td>450000</td>\n",
       "      <td>145500</td>\n",
       "      <td>23.40</td>\n",
       "      <td>1248.0</td>\n",
       "      <td>74.00</td>\n",
       "      <td>5.0</td>\n",
       "      <td>11</td>\n",
       "      <td>19230.769231</td>\n",
       "    </tr>\n",
       "    <tr>\n",
       "      <th>1</th>\n",
       "      <td>370000</td>\n",
       "      <td>120000</td>\n",
       "      <td>21.14</td>\n",
       "      <td>1498.0</td>\n",
       "      <td>103.52</td>\n",
       "      <td>5.0</td>\n",
       "      <td>11</td>\n",
       "      <td>17502.365184</td>\n",
       "    </tr>\n",
       "    <tr>\n",
       "      <th>2</th>\n",
       "      <td>158000</td>\n",
       "      <td>140000</td>\n",
       "      <td>17.70</td>\n",
       "      <td>1497.0</td>\n",
       "      <td>78.00</td>\n",
       "      <td>5.0</td>\n",
       "      <td>19</td>\n",
       "      <td>8926.553672</td>\n",
       "    </tr>\n",
       "    <tr>\n",
       "      <th>3</th>\n",
       "      <td>225000</td>\n",
       "      <td>127000</td>\n",
       "      <td>23.00</td>\n",
       "      <td>1396.0</td>\n",
       "      <td>90.00</td>\n",
       "      <td>5.0</td>\n",
       "      <td>15</td>\n",
       "      <td>9782.608696</td>\n",
       "    </tr>\n",
       "    <tr>\n",
       "      <th>4</th>\n",
       "      <td>130000</td>\n",
       "      <td>120000</td>\n",
       "      <td>16.10</td>\n",
       "      <td>1298.0</td>\n",
       "      <td>88.20</td>\n",
       "      <td>5.0</td>\n",
       "      <td>18</td>\n",
       "      <td>8074.534161</td>\n",
       "    </tr>\n",
       "  </tbody>\n",
       "</table>\n",
       "</div>"
      ],
      "text/plain": [
       "   selling_price  km_driven  mileage(km/ltr/kg)  engine  max_power  seats  \\\n",
       "0         450000     145500               23.40  1248.0      74.00    5.0   \n",
       "1         370000     120000               21.14  1498.0     103.52    5.0   \n",
       "2         158000     140000               17.70  1497.0      78.00    5.0   \n",
       "3         225000     127000               23.00  1396.0      90.00    5.0   \n",
       "4         130000     120000               16.10  1298.0      88.20    5.0   \n",
       "\n",
       "   age  price_per_km  \n",
       "0   11  19230.769231  \n",
       "1   11  17502.365184  \n",
       "2   19   8926.553672  \n",
       "3   15   9782.608696  \n",
       "4   18   8074.534161  "
      ]
     },
     "execution_count": 149,
     "metadata": {},
     "output_type": "execute_result"
    }
   ],
   "source": [
    "df.head()"
   ]
  },
  {
   "cell_type": "markdown",
   "id": "a07d1751",
   "metadata": {},
   "source": [
    "independent = df[[\"age\",\"km_driven\", \"mileage(km/ltr/kg)\",\"engine\", \"price_per_km\"]]"
   ]
  },
  {
   "cell_type": "code",
   "execution_count": 179,
   "id": "fc8b9547",
   "metadata": {},
   "outputs": [],
   "source": [
    "x = df.drop('selling_price', axis=1)\n",
    "y = df['selling_price']"
   ]
  },
  {
   "cell_type": "code",
   "execution_count": 180,
   "id": "e13b3bc0",
   "metadata": {},
   "outputs": [],
   "source": [
    "x_train,x_test,y_train,y_test = train_test_split(x,y,test_size=0.2,random_state=42) "
   ]
  },
  {
   "cell_type": "code",
   "execution_count": 181,
   "id": "a650322c",
   "metadata": {},
   "outputs": [
    {
     "name": "stdout",
     "output_type": "stream",
     "text": [
      "False\n",
      "True\n"
     ]
    },
    {
     "data": {
      "text/html": [
       "<style>#sk-container-id-3 {\n",
       "  /* Definition of color scheme common for light and dark mode */\n",
       "  --sklearn-color-text: #000;\n",
       "  --sklearn-color-text-muted: #666;\n",
       "  --sklearn-color-line: gray;\n",
       "  /* Definition of color scheme for unfitted estimators */\n",
       "  --sklearn-color-unfitted-level-0: #fff5e6;\n",
       "  --sklearn-color-unfitted-level-1: #f6e4d2;\n",
       "  --sklearn-color-unfitted-level-2: #ffe0b3;\n",
       "  --sklearn-color-unfitted-level-3: chocolate;\n",
       "  /* Definition of color scheme for fitted estimators */\n",
       "  --sklearn-color-fitted-level-0: #f0f8ff;\n",
       "  --sklearn-color-fitted-level-1: #d4ebff;\n",
       "  --sklearn-color-fitted-level-2: #b3dbfd;\n",
       "  --sklearn-color-fitted-level-3: cornflowerblue;\n",
       "\n",
       "  /* Specific color for light theme */\n",
       "  --sklearn-color-text-on-default-background: var(--sg-text-color, var(--theme-code-foreground, var(--jp-content-font-color1, black)));\n",
       "  --sklearn-color-background: var(--sg-background-color, var(--theme-background, var(--jp-layout-color0, white)));\n",
       "  --sklearn-color-border-box: var(--sg-text-color, var(--theme-code-foreground, var(--jp-content-font-color1, black)));\n",
       "  --sklearn-color-icon: #696969;\n",
       "\n",
       "  @media (prefers-color-scheme: dark) {\n",
       "    /* Redefinition of color scheme for dark theme */\n",
       "    --sklearn-color-text-on-default-background: var(--sg-text-color, var(--theme-code-foreground, var(--jp-content-font-color1, white)));\n",
       "    --sklearn-color-background: var(--sg-background-color, var(--theme-background, var(--jp-layout-color0, #111)));\n",
       "    --sklearn-color-border-box: var(--sg-text-color, var(--theme-code-foreground, var(--jp-content-font-color1, white)));\n",
       "    --sklearn-color-icon: #878787;\n",
       "  }\n",
       "}\n",
       "\n",
       "#sk-container-id-3 {\n",
       "  color: var(--sklearn-color-text);\n",
       "}\n",
       "\n",
       "#sk-container-id-3 pre {\n",
       "  padding: 0;\n",
       "}\n",
       "\n",
       "#sk-container-id-3 input.sk-hidden--visually {\n",
       "  border: 0;\n",
       "  clip: rect(1px 1px 1px 1px);\n",
       "  clip: rect(1px, 1px, 1px, 1px);\n",
       "  height: 1px;\n",
       "  margin: -1px;\n",
       "  overflow: hidden;\n",
       "  padding: 0;\n",
       "  position: absolute;\n",
       "  width: 1px;\n",
       "}\n",
       "\n",
       "#sk-container-id-3 div.sk-dashed-wrapped {\n",
       "  border: 1px dashed var(--sklearn-color-line);\n",
       "  margin: 0 0.4em 0.5em 0.4em;\n",
       "  box-sizing: border-box;\n",
       "  padding-bottom: 0.4em;\n",
       "  background-color: var(--sklearn-color-background);\n",
       "}\n",
       "\n",
       "#sk-container-id-3 div.sk-container {\n",
       "  /* jupyter's `normalize.less` sets `[hidden] { display: none; }`\n",
       "     but bootstrap.min.css set `[hidden] { display: none !important; }`\n",
       "     so we also need the `!important` here to be able to override the\n",
       "     default hidden behavior on the sphinx rendered scikit-learn.org.\n",
       "     See: https://github.com/scikit-learn/scikit-learn/issues/21755 */\n",
       "  display: inline-block !important;\n",
       "  position: relative;\n",
       "}\n",
       "\n",
       "#sk-container-id-3 div.sk-text-repr-fallback {\n",
       "  display: none;\n",
       "}\n",
       "\n",
       "div.sk-parallel-item,\n",
       "div.sk-serial,\n",
       "div.sk-item {\n",
       "  /* draw centered vertical line to link estimators */\n",
       "  background-image: linear-gradient(var(--sklearn-color-text-on-default-background), var(--sklearn-color-text-on-default-background));\n",
       "  background-size: 2px 100%;\n",
       "  background-repeat: no-repeat;\n",
       "  background-position: center center;\n",
       "}\n",
       "\n",
       "/* Parallel-specific style estimator block */\n",
       "\n",
       "#sk-container-id-3 div.sk-parallel-item::after {\n",
       "  content: \"\";\n",
       "  width: 100%;\n",
       "  border-bottom: 2px solid var(--sklearn-color-text-on-default-background);\n",
       "  flex-grow: 1;\n",
       "}\n",
       "\n",
       "#sk-container-id-3 div.sk-parallel {\n",
       "  display: flex;\n",
       "  align-items: stretch;\n",
       "  justify-content: center;\n",
       "  background-color: var(--sklearn-color-background);\n",
       "  position: relative;\n",
       "}\n",
       "\n",
       "#sk-container-id-3 div.sk-parallel-item {\n",
       "  display: flex;\n",
       "  flex-direction: column;\n",
       "}\n",
       "\n",
       "#sk-container-id-3 div.sk-parallel-item:first-child::after {\n",
       "  align-self: flex-end;\n",
       "  width: 50%;\n",
       "}\n",
       "\n",
       "#sk-container-id-3 div.sk-parallel-item:last-child::after {\n",
       "  align-self: flex-start;\n",
       "  width: 50%;\n",
       "}\n",
       "\n",
       "#sk-container-id-3 div.sk-parallel-item:only-child::after {\n",
       "  width: 0;\n",
       "}\n",
       "\n",
       "/* Serial-specific style estimator block */\n",
       "\n",
       "#sk-container-id-3 div.sk-serial {\n",
       "  display: flex;\n",
       "  flex-direction: column;\n",
       "  align-items: center;\n",
       "  background-color: var(--sklearn-color-background);\n",
       "  padding-right: 1em;\n",
       "  padding-left: 1em;\n",
       "}\n",
       "\n",
       "\n",
       "/* Toggleable style: style used for estimator/Pipeline/ColumnTransformer box that is\n",
       "clickable and can be expanded/collapsed.\n",
       "- Pipeline and ColumnTransformer use this feature and define the default style\n",
       "- Estimators will overwrite some part of the style using the `sk-estimator` class\n",
       "*/\n",
       "\n",
       "/* Pipeline and ColumnTransformer style (default) */\n",
       "\n",
       "#sk-container-id-3 div.sk-toggleable {\n",
       "  /* Default theme specific background. It is overwritten whether we have a\n",
       "  specific estimator or a Pipeline/ColumnTransformer */\n",
       "  background-color: var(--sklearn-color-background);\n",
       "}\n",
       "\n",
       "/* Toggleable label */\n",
       "#sk-container-id-3 label.sk-toggleable__label {\n",
       "  cursor: pointer;\n",
       "  display: flex;\n",
       "  width: 100%;\n",
       "  margin-bottom: 0;\n",
       "  padding: 0.5em;\n",
       "  box-sizing: border-box;\n",
       "  text-align: center;\n",
       "  align-items: start;\n",
       "  justify-content: space-between;\n",
       "  gap: 0.5em;\n",
       "}\n",
       "\n",
       "#sk-container-id-3 label.sk-toggleable__label .caption {\n",
       "  font-size: 0.6rem;\n",
       "  font-weight: lighter;\n",
       "  color: var(--sklearn-color-text-muted);\n",
       "}\n",
       "\n",
       "#sk-container-id-3 label.sk-toggleable__label-arrow:before {\n",
       "  /* Arrow on the left of the label */\n",
       "  content: \"▸\";\n",
       "  float: left;\n",
       "  margin-right: 0.25em;\n",
       "  color: var(--sklearn-color-icon);\n",
       "}\n",
       "\n",
       "#sk-container-id-3 label.sk-toggleable__label-arrow:hover:before {\n",
       "  color: var(--sklearn-color-text);\n",
       "}\n",
       "\n",
       "/* Toggleable content - dropdown */\n",
       "\n",
       "#sk-container-id-3 div.sk-toggleable__content {\n",
       "  max-height: 0;\n",
       "  max-width: 0;\n",
       "  overflow: hidden;\n",
       "  text-align: left;\n",
       "  /* unfitted */\n",
       "  background-color: var(--sklearn-color-unfitted-level-0);\n",
       "}\n",
       "\n",
       "#sk-container-id-3 div.sk-toggleable__content.fitted {\n",
       "  /* fitted */\n",
       "  background-color: var(--sklearn-color-fitted-level-0);\n",
       "}\n",
       "\n",
       "#sk-container-id-3 div.sk-toggleable__content pre {\n",
       "  margin: 0.2em;\n",
       "  border-radius: 0.25em;\n",
       "  color: var(--sklearn-color-text);\n",
       "  /* unfitted */\n",
       "  background-color: var(--sklearn-color-unfitted-level-0);\n",
       "}\n",
       "\n",
       "#sk-container-id-3 div.sk-toggleable__content.fitted pre {\n",
       "  /* unfitted */\n",
       "  background-color: var(--sklearn-color-fitted-level-0);\n",
       "}\n",
       "\n",
       "#sk-container-id-3 input.sk-toggleable__control:checked~div.sk-toggleable__content {\n",
       "  /* Expand drop-down */\n",
       "  max-height: 200px;\n",
       "  max-width: 100%;\n",
       "  overflow: auto;\n",
       "}\n",
       "\n",
       "#sk-container-id-3 input.sk-toggleable__control:checked~label.sk-toggleable__label-arrow:before {\n",
       "  content: \"▾\";\n",
       "}\n",
       "\n",
       "/* Pipeline/ColumnTransformer-specific style */\n",
       "\n",
       "#sk-container-id-3 div.sk-label input.sk-toggleable__control:checked~label.sk-toggleable__label {\n",
       "  color: var(--sklearn-color-text);\n",
       "  background-color: var(--sklearn-color-unfitted-level-2);\n",
       "}\n",
       "\n",
       "#sk-container-id-3 div.sk-label.fitted input.sk-toggleable__control:checked~label.sk-toggleable__label {\n",
       "  background-color: var(--sklearn-color-fitted-level-2);\n",
       "}\n",
       "\n",
       "/* Estimator-specific style */\n",
       "\n",
       "/* Colorize estimator box */\n",
       "#sk-container-id-3 div.sk-estimator input.sk-toggleable__control:checked~label.sk-toggleable__label {\n",
       "  /* unfitted */\n",
       "  background-color: var(--sklearn-color-unfitted-level-2);\n",
       "}\n",
       "\n",
       "#sk-container-id-3 div.sk-estimator.fitted input.sk-toggleable__control:checked~label.sk-toggleable__label {\n",
       "  /* fitted */\n",
       "  background-color: var(--sklearn-color-fitted-level-2);\n",
       "}\n",
       "\n",
       "#sk-container-id-3 div.sk-label label.sk-toggleable__label,\n",
       "#sk-container-id-3 div.sk-label label {\n",
       "  /* The background is the default theme color */\n",
       "  color: var(--sklearn-color-text-on-default-background);\n",
       "}\n",
       "\n",
       "/* On hover, darken the color of the background */\n",
       "#sk-container-id-3 div.sk-label:hover label.sk-toggleable__label {\n",
       "  color: var(--sklearn-color-text);\n",
       "  background-color: var(--sklearn-color-unfitted-level-2);\n",
       "}\n",
       "\n",
       "/* Label box, darken color on hover, fitted */\n",
       "#sk-container-id-3 div.sk-label.fitted:hover label.sk-toggleable__label.fitted {\n",
       "  color: var(--sklearn-color-text);\n",
       "  background-color: var(--sklearn-color-fitted-level-2);\n",
       "}\n",
       "\n",
       "/* Estimator label */\n",
       "\n",
       "#sk-container-id-3 div.sk-label label {\n",
       "  font-family: monospace;\n",
       "  font-weight: bold;\n",
       "  display: inline-block;\n",
       "  line-height: 1.2em;\n",
       "}\n",
       "\n",
       "#sk-container-id-3 div.sk-label-container {\n",
       "  text-align: center;\n",
       "}\n",
       "\n",
       "/* Estimator-specific */\n",
       "#sk-container-id-3 div.sk-estimator {\n",
       "  font-family: monospace;\n",
       "  border: 1px dotted var(--sklearn-color-border-box);\n",
       "  border-radius: 0.25em;\n",
       "  box-sizing: border-box;\n",
       "  margin-bottom: 0.5em;\n",
       "  /* unfitted */\n",
       "  background-color: var(--sklearn-color-unfitted-level-0);\n",
       "}\n",
       "\n",
       "#sk-container-id-3 div.sk-estimator.fitted {\n",
       "  /* fitted */\n",
       "  background-color: var(--sklearn-color-fitted-level-0);\n",
       "}\n",
       "\n",
       "/* on hover */\n",
       "#sk-container-id-3 div.sk-estimator:hover {\n",
       "  /* unfitted */\n",
       "  background-color: var(--sklearn-color-unfitted-level-2);\n",
       "}\n",
       "\n",
       "#sk-container-id-3 div.sk-estimator.fitted:hover {\n",
       "  /* fitted */\n",
       "  background-color: var(--sklearn-color-fitted-level-2);\n",
       "}\n",
       "\n",
       "/* Specification for estimator info (e.g. \"i\" and \"?\") */\n",
       "\n",
       "/* Common style for \"i\" and \"?\" */\n",
       "\n",
       ".sk-estimator-doc-link,\n",
       "a:link.sk-estimator-doc-link,\n",
       "a:visited.sk-estimator-doc-link {\n",
       "  float: right;\n",
       "  font-size: smaller;\n",
       "  line-height: 1em;\n",
       "  font-family: monospace;\n",
       "  background-color: var(--sklearn-color-background);\n",
       "  border-radius: 1em;\n",
       "  height: 1em;\n",
       "  width: 1em;\n",
       "  text-decoration: none !important;\n",
       "  margin-left: 0.5em;\n",
       "  text-align: center;\n",
       "  /* unfitted */\n",
       "  border: var(--sklearn-color-unfitted-level-1) 1pt solid;\n",
       "  color: var(--sklearn-color-unfitted-level-1);\n",
       "}\n",
       "\n",
       ".sk-estimator-doc-link.fitted,\n",
       "a:link.sk-estimator-doc-link.fitted,\n",
       "a:visited.sk-estimator-doc-link.fitted {\n",
       "  /* fitted */\n",
       "  border: var(--sklearn-color-fitted-level-1) 1pt solid;\n",
       "  color: var(--sklearn-color-fitted-level-1);\n",
       "}\n",
       "\n",
       "/* On hover */\n",
       "div.sk-estimator:hover .sk-estimator-doc-link:hover,\n",
       ".sk-estimator-doc-link:hover,\n",
       "div.sk-label-container:hover .sk-estimator-doc-link:hover,\n",
       ".sk-estimator-doc-link:hover {\n",
       "  /* unfitted */\n",
       "  background-color: var(--sklearn-color-unfitted-level-3);\n",
       "  color: var(--sklearn-color-background);\n",
       "  text-decoration: none;\n",
       "}\n",
       "\n",
       "div.sk-estimator.fitted:hover .sk-estimator-doc-link.fitted:hover,\n",
       ".sk-estimator-doc-link.fitted:hover,\n",
       "div.sk-label-container:hover .sk-estimator-doc-link.fitted:hover,\n",
       ".sk-estimator-doc-link.fitted:hover {\n",
       "  /* fitted */\n",
       "  background-color: var(--sklearn-color-fitted-level-3);\n",
       "  color: var(--sklearn-color-background);\n",
       "  text-decoration: none;\n",
       "}\n",
       "\n",
       "/* Span, style for the box shown on hovering the info icon */\n",
       ".sk-estimator-doc-link span {\n",
       "  display: none;\n",
       "  z-index: 9999;\n",
       "  position: relative;\n",
       "  font-weight: normal;\n",
       "  right: .2ex;\n",
       "  padding: .5ex;\n",
       "  margin: .5ex;\n",
       "  width: min-content;\n",
       "  min-width: 20ex;\n",
       "  max-width: 50ex;\n",
       "  color: var(--sklearn-color-text);\n",
       "  box-shadow: 2pt 2pt 4pt #999;\n",
       "  /* unfitted */\n",
       "  background: var(--sklearn-color-unfitted-level-0);\n",
       "  border: .5pt solid var(--sklearn-color-unfitted-level-3);\n",
       "}\n",
       "\n",
       ".sk-estimator-doc-link.fitted span {\n",
       "  /* fitted */\n",
       "  background: var(--sklearn-color-fitted-level-0);\n",
       "  border: var(--sklearn-color-fitted-level-3);\n",
       "}\n",
       "\n",
       ".sk-estimator-doc-link:hover span {\n",
       "  display: block;\n",
       "}\n",
       "\n",
       "/* \"?\"-specific style due to the `<a>` HTML tag */\n",
       "\n",
       "#sk-container-id-3 a.estimator_doc_link {\n",
       "  float: right;\n",
       "  font-size: 1rem;\n",
       "  line-height: 1em;\n",
       "  font-family: monospace;\n",
       "  background-color: var(--sklearn-color-background);\n",
       "  border-radius: 1rem;\n",
       "  height: 1rem;\n",
       "  width: 1rem;\n",
       "  text-decoration: none;\n",
       "  /* unfitted */\n",
       "  color: var(--sklearn-color-unfitted-level-1);\n",
       "  border: var(--sklearn-color-unfitted-level-1) 1pt solid;\n",
       "}\n",
       "\n",
       "#sk-container-id-3 a.estimator_doc_link.fitted {\n",
       "  /* fitted */\n",
       "  border: var(--sklearn-color-fitted-level-1) 1pt solid;\n",
       "  color: var(--sklearn-color-fitted-level-1);\n",
       "}\n",
       "\n",
       "/* On hover */\n",
       "#sk-container-id-3 a.estimator_doc_link:hover {\n",
       "  /* unfitted */\n",
       "  background-color: var(--sklearn-color-unfitted-level-3);\n",
       "  color: var(--sklearn-color-background);\n",
       "  text-decoration: none;\n",
       "}\n",
       "\n",
       "#sk-container-id-3 a.estimator_doc_link.fitted:hover {\n",
       "  /* fitted */\n",
       "  background-color: var(--sklearn-color-fitted-level-3);\n",
       "}\n",
       "</style><div id=\"sk-container-id-3\" class=\"sk-top-container\"><div class=\"sk-text-repr-fallback\"><pre>LinearRegression()</pre><b>In a Jupyter environment, please rerun this cell to show the HTML representation or trust the notebook. <br />On GitHub, the HTML representation is unable to render, please try loading this page with nbviewer.org.</b></div><div class=\"sk-container\" hidden><div class=\"sk-item\"><div class=\"sk-estimator fitted sk-toggleable\"><input class=\"sk-toggleable__control sk-hidden--visually\" id=\"sk-estimator-id-3\" type=\"checkbox\" checked><label for=\"sk-estimator-id-3\" class=\"sk-toggleable__label fitted sk-toggleable__label-arrow\"><div><div>LinearRegression</div></div><div><a class=\"sk-estimator-doc-link fitted\" rel=\"noreferrer\" target=\"_blank\" href=\"https://scikit-learn.org/1.6/modules/generated/sklearn.linear_model.LinearRegression.html\">?<span>Documentation for LinearRegression</span></a><span class=\"sk-estimator-doc-link fitted\">i<span>Fitted</span></span></div></label><div class=\"sk-toggleable__content fitted\"><pre>LinearRegression()</pre></div> </div></div></div></div>"
      ],
      "text/plain": [
       "LinearRegression()"
      ]
     },
     "execution_count": 181,
     "metadata": {},
     "output_type": "execute_result"
    }
   ],
   "source": [
    "# Checking for NaN or inf values\n",
    "print(np.any(np.isnan(x_train)))  \n",
    "print(np.any(np.isinf(x_train)))  \n",
    "# Replacing  the NANs\n",
    "x_train = x_train.replace([np.inf, -np.inf], np.nan)  \n",
    "x_train = x_train.fillna(0)  \n",
    "x_test = x_test.replace([np.inf, -np.inf], np.nan)\n",
    "x_test = x_test.fillna(0)\n",
    "\n",
    "#Training the model\n",
    "from sklearn.linear_model import LinearRegression\n",
    "model = LinearRegression()\n",
    "model.fit(x_train, y_train)"
   ]
  },
  {
   "cell_type": "code",
   "execution_count": 183,
   "id": "4e7767ae",
   "metadata": {},
   "outputs": [
    {
     "name": "stdout",
     "output_type": "stream",
     "text": [
      "Intercept: -71813.78294411214\n",
      "km_driven: -0.10233011658737001\n",
      "mileage(km/ltr/kg): 15713.739954460787\n",
      "engine: 9.946551295206488\n",
      "max_power: 1209.1288967544062\n",
      "seats: -13950.528636658597\n",
      "age: -11184.45883095456\n",
      "price_per_km: 13.09838456189654\n"
     ]
    }
   ],
   "source": [
    "# Getting the model intercept and the coefficients\n",
    "print(\"Intercept:\", model.intercept_)\n",
    "for feature, coef in zip(x_train.columns, model.coef_):\n",
    "    print(f\"{feature}: {coef}\")"
   ]
  },
  {
   "cell_type": "code",
   "execution_count": 184,
   "id": "7cfc9a77",
   "metadata": {},
   "outputs": [
    {
     "name": "stdout",
     "output_type": "stream",
     "text": [
      "R² Score: 0.9432419012777986\n",
      "Mean Squared Error: 10302267451.200657\n",
      "Mean Absolute Error: 56314.322677292934\n",
      "Root Mean Squared Error: 101500.0859664693\n"
     ]
    }
   ],
   "source": [
    "#Evaluating the model\n",
    "from sklearn.metrics import r2_score, mean_squared_error, mean_absolute_error, root_mean_squared_error\n",
    "\n",
    "y_pred = model.predict(x_test)\n",
    "\n",
    "r2 = r2_score(y_test, y_pred)\n",
    "mse = mean_squared_error(y_test, y_pred)\n",
    "print(\"R² Score:\", r2)\n",
    "print(\"Mean Squared Error:\", mse)\n",
    "print(\"Mean Absolute Error:\", mean_absolute_error(y_test, y_pred))\n",
    "print(\"Root Mean Squared Error:\", np.sqrt(mse))"
   ]
  },
  {
   "cell_type": "code",
   "execution_count": 185,
   "id": "f4a7b9f1",
   "metadata": {},
   "outputs": [
    {
     "name": "stdout",
     "output_type": "stream",
     "text": [
      "Intercept: -71813.78294411214\n",
      "Slope: -0.10233011658737001\n"
     ]
    }
   ],
   "source": [
    "#intercept & coefficient\n",
    "print(\"Intercept:\", model.intercept_)\n",
    "print(\"Slope:\", model.coef_[0])"
   ]
  },
  {
   "cell_type": "code",
   "execution_count": 186,
   "id": "fa374314",
   "metadata": {},
   "outputs": [
    {
     "name": "stdout",
     "output_type": "stream",
     "text": [
      "R² Score: 0.9432419012777986\n",
      "Mean Squared Error: 10302267451.200657\n"
     ]
    }
   ],
   "source": [
    "#evaluate your data using R² Score and Mean Squared Error (MSE).\n",
    "y_pred = model.predict(x_test)\n",
    "\n",
    "r2 = r2_score(y_test, y_pred)\n",
    "mse = mean_squared_error(y_test, y_pred)\n",
    "print(\"R² Score:\", r2)\n",
    "print(\"Mean Squared Error:\", mse)"
   ]
  },
  {
   "cell_type": "markdown",
   "id": "1c8d8a01",
   "metadata": {},
   "source": [
    "R² Score is 94%, the model can only account for 94% of variance in the dependent variable, caused by independent variables\n",
    "MSE provides a measure of how close the predicted values are to the actual values"
   ]
  },
  {
   "cell_type": "code",
   "execution_count": 187,
   "id": "21e2aeb1",
   "metadata": {},
   "outputs": [],
   "source": [
    "#Apply Lasso Regression on the dataset and compare its performance with Linear Regression.\n",
    "x = df.drop(columns=[\"selling_price\"]) \n",
    "y = df[\"selling_price\"]"
   ]
  },
  {
   "cell_type": "code",
   "execution_count": 188,
   "id": "245d8b45",
   "metadata": {},
   "outputs": [
    {
     "name": "stdout",
     "output_type": "stream",
     "text": [
      "Lasso Regression Performance\n",
      "R² Score: 0.9432420644145771\n"
     ]
    }
   ],
   "source": [
    "#Train/test split\n",
    "from sklearn.model_selection import train_test_split\n",
    "X_train, X_test, y_train, y_test = train_test_split(x, y, test_size=0.2, random_state=42)\n",
    "\n",
    "#lasso Model\n",
    "lasso = Lasso(alpha=1.0) \n",
    "lasso.fit(x_train, y_train)\n",
    "\n",
    "y_pred = lasso.predict(x_test)\n",
    "\n",
    "r2 = r2_score(y_test, y_pred)\n",
    "mse = mean_squared_error(y_test, y_pred)\n",
    "rmse = np.sqrt(mse)\n",
    "\n",
    "print(\"Lasso Regression Performance\")\n",
    "print(\"R² Score:\", r2)"
   ]
  },
  {
   "cell_type": "markdown",
   "id": "28ba4e5f",
   "metadata": {},
   "source": [
    "R² Score has remained the same suggesting no coefficients were shrunk: no multicollinearity"
   ]
  },
  {
   "cell_type": "code",
   "execution_count": 189,
   "id": "f610c73d",
   "metadata": {},
   "outputs": [],
   "source": [
    "#Apply Ridge Regression on the dataset and compare its performance with both Linear and Lasso Regression.\n",
    "x = df.drop(columns=[\"selling_price\"]) \n",
    "y = df[\"selling_price\"]"
   ]
  },
  {
   "cell_type": "code",
   "execution_count": 196,
   "id": "62214c55",
   "metadata": {},
   "outputs": [],
   "source": [
    "df = df.replace([np.inf, -np.inf], np.nan)\n",
    "\n",
    "df = df.fillna(0)  \n",
    "x = df.drop(columns=[\"selling_price\"]) \n",
    "y = df[\"selling_price\"]"
   ]
  },
  {
   "cell_type": "code",
   "execution_count": 197,
   "id": "86ebe9ef",
   "metadata": {},
   "outputs": [
    {
     "name": "stdout",
     "output_type": "stream",
     "text": [
      "Ridge Regression Performance\n",
      "R² Score: 0.9432423057813701\n"
     ]
    }
   ],
   "source": [
    "x_train, x_test, y_train, y_test = train_test_split(x, y, test_size=0.2, random_state=42)\n",
    "\n",
    "ridge = Ridge(alpha=1.0) \n",
    "ridge.fit(x_train, y_train)\n",
    "\n",
    "y_pred = ridge.predict(x_test)\n",
    "\n",
    "r2 = r2_score(y_test, y_pred)\n",
    "print(\"Ridge Regression Performance\")\n",
    "print(\"R² Score:\", r2)"
   ]
  },
  {
   "cell_type": "markdown",
   "id": "33ce93b1",
   "metadata": {},
   "source": [
    "# Ridge regression has no effect on the variance in the dependent variables"
   ]
  },
  {
   "cell_type": "code",
   "execution_count": null,
   "id": "0970cee5",
   "metadata": {},
   "outputs": [],
   "source": [
    "#Use cross-validation to evaluate your Ridge Regression model\n",
    "x = df.drop(columns=[\"selling_price\"]) \n",
    "y = df[\"selling_price\"]\n",
    "\n",
    "from sklearn.model_selection import train_test_split\n",
    "x_train, x_test, y_train, y_test = train_test_split(x, y, test_size=0.2, random_state=42)"
   ]
  },
  {
   "cell_type": "code",
   "execution_count": 204,
   "id": "90a11eef",
   "metadata": {},
   "outputs": [],
   "source": [
    "# Initialize Ridge Regression\n",
    "from sklearn.model_selection import cross_val_score\n",
    "ridge = Ridge(alpha=1.0)\n",
    "cv_scores = cross_val_score(ridge, x, y, cv=5, scoring=\"r2\")"
   ]
  },
  {
   "cell_type": "code",
   "execution_count": 205,
   "id": "f90d9cfe",
   "metadata": {},
   "outputs": [
    {
     "name": "stdout",
     "output_type": "stream",
     "text": [
      "Cross-validation R² scores: [0.94749237 0.92251387 0.95257528 0.94125081 0.90351875]\n",
      "Mean R² score: 0.9334702149400764\n"
     ]
    }
   ],
   "source": [
    "print(\"Cross-validation R² scores:\", cv_scores)\n",
    "print(\"Mean R² score:\", np.mean(cv_scores))"
   ]
  },
  {
   "cell_type": "markdown",
   "id": "eb486f32",
   "metadata": {},
   "source": [
    "# Little change in R² Score means the model performs well on unseen data"
   ]
  },
  {
   "cell_type": "code",
   "execution_count": 206,
   "id": "41d4cf06",
   "metadata": {},
   "outputs": [
    {
     "data": {
      "image/png": "[encoded data removed]",
      "text/plain": [
       "<Figure size 640x480 with 1 Axes>"
      ]
     },
     "metadata": {},
     "output_type": "display_data"
    }
   ],
   "source": [
    "#Plot the predicted vs actual prices for your best-performing model.\n",
    "\n",
    "sns.scatterplot(x=y_test, y=y_pred)\n",
    "plt.plot([y_test.min(), y_test.max()], [y_test.min(), y_test.max()], color='red', linewidth=2)  \n",
    "plt.ylabel(\"Predicted Selling Price\")\n",
    "plt.title(\"Predicted vs Actual Car Prices - Lasso Regression\")\n",
    "plt.show()"
   ]
  },
  {
   "cell_type": "markdown",
   "id": "5fbee6fc",
   "metadata": {},
   "source": [
    "By plotting, we get a visual representation of how well the model understands the relationships in the data. Outliers can easily be spotted"
   ]
  },
  {
   "cell_type": "code",
   "execution_count": 208,
   "id": "52926287",
   "metadata": {},
   "outputs": [],
   "source": [
    "from sklearn.model_selection import GridSearchCV\n",
    "# Define the model\n",
    "ridge = Ridge()\n",
    "\n",
    "# Define a grid of alpha values to search\n",
    "alpha_values = {'alpha': [0.01, 0.1, 1.0, 10, 50, 100]}"
   ]
  },
  {
   "cell_type": "code",
   "execution_count": null,
   "id": "9809cc55",
   "metadata": {},
   "outputs": [
    {
     "name": "stdout",
     "output_type": "stream",
     "text": [
      "Best alpha: 100\n"
     ]
    }
   ],
   "source": [
    "# Use GridSearchCV for 5-fold cross-validation\n",
    "grid_search = GridSearchCV(ridge, param_grid=alpha_values, cv=5, scoring=\"r2\")\n",
    "grid_search.fit(x_train, y_train)\n",
    "\n",
    "#finding the best alpha\n",
    "best_alpha = grid_search.best_params_[\"alpha\"]\n",
    "print(\"Best alpha:\", best_alpha)\n",
    "\n",
    "#training ridge with the best alpha\n",
    "ridge_best = Ridge(alpha=best_alpha)\n",
    "ridge_best.fit(x_train, y_train)\n",
    "y_pred_ridge = ridge_best.predict(x_test)"
   ]
  },
  {
   "cell_type": "code",
   "execution_count": 212,
   "id": "7386f236",
   "metadata": {},
   "outputs": [
    {
     "name": "stdout",
     "output_type": "stream",
     "text": [
      "R² Score: 0.9432797902595698\n",
      "MSE: 10295390152.058367\n",
      "RMSE: 101466.20201849661\n"
     ]
    }
   ],
   "source": [
    "#evaluating\n",
    "r2 = r2_score(y_test, y_pred_ridge)\n",
    "mse = mean_squared_error(y_test, y_pred_ridge)\n",
    "rmse = np.sqrt(mse)\n",
    "\n",
    "print(\"R² Score:\", r2)\n",
    "print(\"MSE:\", mse)\n",
    "print(\"RMSE:\", rmse)"
   ]
  },
  {
   "cell_type": "markdown",
   "id": "e322ad6b",
   "metadata": {},
   "source": [
    "Alpha regulates the shrinking magnitude in ridge & lasso. A small alpha value means less shrinking magnitude, which can lead to overfitting, especially in complex models with many features.\n"
   ]
  },
  {
   "cell_type": "code",
   "execution_count": null,
   "id": "434b6451",
   "metadata": {},
   "outputs": [],
   "source": [
    "#Polynomial Regression on the dataset.\n"
   ]
  }
 ],
 "metadata": {
  "kernelspec": {
   "display_name": "base",
   "language": "python",
   "name": "python3"
  },
  "language_info": {
   "codemirror_mode": {
    "name": "ipython",
    "version": 3
   },
   "file_extension": ".py",
   "mimetype": "text/x-python",
   "name": "python",
   "nbconvert_exporter": "python",
   "pygments_lexer": "ipython3",
   "version": "3.13.5"
  }
 },
 "nbformat": 4,
 "nbformat_minor": 5
}
